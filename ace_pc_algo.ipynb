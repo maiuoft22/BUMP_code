{
 "cells": [
  {
   "cell_type": "code",
   "execution_count": 1,
   "metadata": {},
   "outputs": [],
   "source": [
    "from src.utils import data_load\n",
    "import pandas as pd\n",
    "from src.s3_utils import pandas_from_csv_s3"
   ]
  },
  {
   "source": [
    "# Data processing: Join PHQ9, GAD7 and ACE datasets together by record_id and redcap_event_name"
   ],
   "cell_type": "markdown",
   "metadata": {}
  },
  {
   "cell_type": "code",
   "execution_count": 2,
   "metadata": {},
   "outputs": [],
   "source": [
    "data = data_load(data_keys={'phq9', 'generalized_anxiety_disorder_scale_gad7', 'ace', 'surveys', 'study_ids', 'check_in_adherence_log'})"
   ]
  },
  {
   "cell_type": "code",
   "execution_count": 3,
   "metadata": {},
   "outputs": [],
   "source": [
    "outcomes = pd.merge(data['phq9'], data['generalized_anxiety_disorder_scale_gad7'],  how='outer', left_on=['record_id','redcap_event_name'], right_on = ['record_id','redcap_event_name'])"
   ]
  },
  {
   "cell_type": "code",
   "execution_count": 4,
   "metadata": {},
   "outputs": [],
   "source": [
    "overall_df = pd.merge(data['ace'].drop(columns=['redcap_event_name']).dropna(), outcomes, how='left', on='record_id')"
   ]
  },
  {
   "source": [
    "# Convert redcap_event_name to date for PHQ9, GAD7 and ACE datasets"
   ],
   "cell_type": "markdown",
   "metadata": {}
  },
  {
   "cell_type": "code",
   "execution_count": 5,
   "metadata": {},
   "outputs": [],
   "source": [
    "# read study ids\n",
    "id_df = data['study_ids'][['record_id', 'evidation_id']]\n",
    "id_df.rename(columns={'evidation_id': 'user_id'}, inplace=True)\n",
    "\n",
    "# add ids to survey\n",
    "overall_df = overall_df.merge(id_df, on=['record_id'])\n",
    "overall_df.user_id = overall_df.user_id.fillna(-1).astype(int)\n",
    "\n",
    "# read check-in dates\n",
    "ci_df = data['check_in_adherence_log']\n",
    "cols = ['record_id'] + [col for col in ci_df.columns if col.endswith('_date')]\n",
    "ci_df = ci_df[cols]\n",
    "\n",
    "# add dates to survey\n",
    "overall_df = overall_df.merge(ci_df, on=['record_id'])\n",
    "overall_df['checkin_number'] = overall_df.redcap_event_name.str.split('ci_').str[1].str.split('_arm').str[0].fillna(0).astype(int)\n",
    "overall_df['date'] = overall_df.apply(lambda x: x[f'checkin_{str(x.checkin_number)}_date'] if x.checkin_number > 0 else None, axis=1)\n",
    "overall_df = overall_df[overall_df.columns.drop(list(overall_df.filter(regex='checkin_')))]\n",
    "overall_df['date'] = pd.to_datetime(overall_df['date'])"
   ]
  },
  {
   "cell_type": "code",
   "execution_count": 6,
   "metadata": {},
   "outputs": [
    {
     "output_type": "execute_result",
     "data": {
      "text/plain": "   record_id  ace_1  ace_2  ace_3  ace_4  ace_5  ace_6  ace_7  ace_8  ace_9  ace_10  ace_complete redcap_event_name  phq9_1  phq9_2  phq9_3  phq9_4  phq9_5  phq9_6  phq9_7  phq9_8  phq9_9  phq9_10  phq9_complete  gad_1  gad_2  gad_3  gad_4  gad_5  gad_6  gad_7  gad_8  generalized_anxiety_disorder_scale_gad7_complete  user_id       date\n0          4      1      1      0    1.0      1      0      1      1      0       0             2        ci_1_arm_1     0.0     0.0     3.0     2.0     0.0     0.0     0.0     0.0     0.0      1.0              2    1.0    1.0    0.0    2.0    1.0    3.0    0.0    1.0                                               2.0       28 2021-03-18\n1          4      1      1      0    1.0      1      0      1      1      0       0             2        ci_2_arm_1     0.0     0.0     3.0     3.0     0.0     0.0     0.0     0.0     0.0      1.0              2    2.0    1.0    1.0    1.0    1.0    3.0    0.0    1.0                                               2.0       28 2021-04-01\n2          4      1      1      0    1.0      1      0      1      1      0       0             2        ci_3_arm_1     0.0     0.0     3.0     3.0     0.0     0.0     0.0     0.0     0.0      1.0              2    1.0    1.0    0.0    2.0    2.0    3.0    1.0    1.0                                               2.0       28 2021-04-15\n3          4      1      1      0    1.0      1      0      1      1      0       0             2        ci_4_arm_1     0.0     0.0     3.0     3.0     0.0     0.0     0.0     0.0     0.0      1.0              2    1.0    1.0    0.0    1.0    0.0    2.0    0.0    0.0                                               2.0       28 2021-04-29\n4          4      1      1      0    1.0      1      0      1      1      0       0             2        ci_5_arm_1     0.0     0.0     3.0     3.0     0.0     0.0     0.0     0.0     0.0      1.0              2    1.0    0.0    0.0    1.0    1.0    1.0    0.0    1.0                                               2.0       28 2021-05-13",
      "text/html": "<div>\n<style scoped>\n    .dataframe tbody tr th:only-of-type {\n        vertical-align: middle;\n    }\n\n    .dataframe tbody tr th {\n        vertical-align: top;\n    }\n\n    .dataframe thead th {\n        text-align: right;\n    }\n</style>\n<table border=\"1\" class=\"dataframe\">\n  <thead>\n    <tr style=\"text-align: right;\">\n      <th></th>\n      <th>record_id</th>\n      <th>ace_1</th>\n      <th>ace_2</th>\n      <th>ace_3</th>\n      <th>ace_4</th>\n      <th>ace_5</th>\n      <th>ace_6</th>\n      <th>ace_7</th>\n      <th>ace_8</th>\n      <th>ace_9</th>\n      <th>ace_10</th>\n      <th>ace_complete</th>\n      <th>redcap_event_name</th>\n      <th>phq9_1</th>\n      <th>phq9_2</th>\n      <th>phq9_3</th>\n      <th>phq9_4</th>\n      <th>phq9_5</th>\n      <th>phq9_6</th>\n      <th>phq9_7</th>\n      <th>phq9_8</th>\n      <th>phq9_9</th>\n      <th>phq9_10</th>\n      <th>phq9_complete</th>\n      <th>gad_1</th>\n      <th>gad_2</th>\n      <th>gad_3</th>\n      <th>gad_4</th>\n      <th>gad_5</th>\n      <th>gad_6</th>\n      <th>gad_7</th>\n      <th>gad_8</th>\n      <th>generalized_anxiety_disorder_scale_gad7_complete</th>\n      <th>user_id</th>\n      <th>date</th>\n    </tr>\n  </thead>\n  <tbody>\n    <tr>\n      <th>0</th>\n      <td>4</td>\n      <td>1</td>\n      <td>1</td>\n      <td>0</td>\n      <td>1.0</td>\n      <td>1</td>\n      <td>0</td>\n      <td>1</td>\n      <td>1</td>\n      <td>0</td>\n      <td>0</td>\n      <td>2</td>\n      <td>ci_1_arm_1</td>\n      <td>0.0</td>\n      <td>0.0</td>\n      <td>3.0</td>\n      <td>2.0</td>\n      <td>0.0</td>\n      <td>0.0</td>\n      <td>0.0</td>\n      <td>0.0</td>\n      <td>0.0</td>\n      <td>1.0</td>\n      <td>2</td>\n      <td>1.0</td>\n      <td>1.0</td>\n      <td>0.0</td>\n      <td>2.0</td>\n      <td>1.0</td>\n      <td>3.0</td>\n      <td>0.0</td>\n      <td>1.0</td>\n      <td>2.0</td>\n      <td>28</td>\n      <td>2021-03-18</td>\n    </tr>\n    <tr>\n      <th>1</th>\n      <td>4</td>\n      <td>1</td>\n      <td>1</td>\n      <td>0</td>\n      <td>1.0</td>\n      <td>1</td>\n      <td>0</td>\n      <td>1</td>\n      <td>1</td>\n      <td>0</td>\n      <td>0</td>\n      <td>2</td>\n      <td>ci_2_arm_1</td>\n      <td>0.0</td>\n      <td>0.0</td>\n      <td>3.0</td>\n      <td>3.0</td>\n      <td>0.0</td>\n      <td>0.0</td>\n      <td>0.0</td>\n      <td>0.0</td>\n      <td>0.0</td>\n      <td>1.0</td>\n      <td>2</td>\n      <td>2.0</td>\n      <td>1.0</td>\n      <td>1.0</td>\n      <td>1.0</td>\n      <td>1.0</td>\n      <td>3.0</td>\n      <td>0.0</td>\n      <td>1.0</td>\n      <td>2.0</td>\n      <td>28</td>\n      <td>2021-04-01</td>\n    </tr>\n    <tr>\n      <th>2</th>\n      <td>4</td>\n      <td>1</td>\n      <td>1</td>\n      <td>0</td>\n      <td>1.0</td>\n      <td>1</td>\n      <td>0</td>\n      <td>1</td>\n      <td>1</td>\n      <td>0</td>\n      <td>0</td>\n      <td>2</td>\n      <td>ci_3_arm_1</td>\n      <td>0.0</td>\n      <td>0.0</td>\n      <td>3.0</td>\n      <td>3.0</td>\n      <td>0.0</td>\n      <td>0.0</td>\n      <td>0.0</td>\n      <td>0.0</td>\n      <td>0.0</td>\n      <td>1.0</td>\n      <td>2</td>\n      <td>1.0</td>\n      <td>1.0</td>\n      <td>0.0</td>\n      <td>2.0</td>\n      <td>2.0</td>\n      <td>3.0</td>\n      <td>1.0</td>\n      <td>1.0</td>\n      <td>2.0</td>\n      <td>28</td>\n      <td>2021-04-15</td>\n    </tr>\n    <tr>\n      <th>3</th>\n      <td>4</td>\n      <td>1</td>\n      <td>1</td>\n      <td>0</td>\n      <td>1.0</td>\n      <td>1</td>\n      <td>0</td>\n      <td>1</td>\n      <td>1</td>\n      <td>0</td>\n      <td>0</td>\n      <td>2</td>\n      <td>ci_4_arm_1</td>\n      <td>0.0</td>\n      <td>0.0</td>\n      <td>3.0</td>\n      <td>3.0</td>\n      <td>0.0</td>\n      <td>0.0</td>\n      <td>0.0</td>\n      <td>0.0</td>\n      <td>0.0</td>\n      <td>1.0</td>\n      <td>2</td>\n      <td>1.0</td>\n      <td>1.0</td>\n      <td>0.0</td>\n      <td>1.0</td>\n      <td>0.0</td>\n      <td>2.0</td>\n      <td>0.0</td>\n      <td>0.0</td>\n      <td>2.0</td>\n      <td>28</td>\n      <td>2021-04-29</td>\n    </tr>\n    <tr>\n      <th>4</th>\n      <td>4</td>\n      <td>1</td>\n      <td>1</td>\n      <td>0</td>\n      <td>1.0</td>\n      <td>1</td>\n      <td>0</td>\n      <td>1</td>\n      <td>1</td>\n      <td>0</td>\n      <td>0</td>\n      <td>2</td>\n      <td>ci_5_arm_1</td>\n      <td>0.0</td>\n      <td>0.0</td>\n      <td>3.0</td>\n      <td>3.0</td>\n      <td>0.0</td>\n      <td>0.0</td>\n      <td>0.0</td>\n      <td>0.0</td>\n      <td>0.0</td>\n      <td>1.0</td>\n      <td>2</td>\n      <td>1.0</td>\n      <td>0.0</td>\n      <td>0.0</td>\n      <td>1.0</td>\n      <td>1.0</td>\n      <td>1.0</td>\n      <td>0.0</td>\n      <td>1.0</td>\n      <td>2.0</td>\n      <td>28</td>\n      <td>2021-05-13</td>\n    </tr>\n  </tbody>\n</table>\n</div>"
     },
     "metadata": {},
     "execution_count": 6
    }
   ],
   "source": [
    "pd.set_option('display.max_rows', 500)\n",
    "pd.set_option('display.max_columns', 500)\n",
    "pd.set_option('display.width', 1000)\n",
    "overall_df.head()"
   ]
  },
  {
   "source": [
    "# Add Global survey data - PROMIS quality of life"
   ],
   "cell_type": "markdown",
   "metadata": {}
  },
  {
   "cell_type": "code",
   "execution_count": 7,
   "metadata": {},
   "outputs": [],
   "source": [
    "promis_survey = data['surveys']\n",
    "promis_survey = promis_survey.loc[promis_survey['question_text'] == 'In general, would you say your quality of life is:']\n",
    "promis_survey['date'] = pd.to_datetime(promis_survey['date'])"
   ]
  },
  {
   "cell_type": "code",
   "execution_count": 8,
   "metadata": {},
   "outputs": [],
   "source": [
    "new_label = dict()\n",
    "# encoding: {'Excellent': 0, 'Very good': 1, 'Good': 2, 'Fair': 3}\n",
    "for i, answer in enumerate(promis_survey.answer_text.unique()):\n",
    "    new_label[answer] = i\n",
    "promis_survey.replace({\"answer_text\": new_label}, inplace=True)"
   ]
  },
  {
   "cell_type": "code",
   "execution_count": 9,
   "metadata": {},
   "outputs": [
    {
     "output_type": "execute_result",
     "data": {
      "text/plain": "            id  user_id  survey_id          title           event_date                 from                   to                  created_at                  updated_at  question_id                                      question_text  answer_text       date\n214098  154994       37         11  Global survey  2021-07-13 00:00:00  2021-07-13 04:00:00  2021-07-14 04:00:00  2021-07-13 04:08:01.137807   2021-07-13 17:58:54.62095          115  In general, would you say your quality of life...            0 2021-07-13\n214099  127778       81         11  Global survey  2021-07-01 00:00:00  2021-07-01 04:00:00  2021-07-02 04:00:00  2021-07-01 04:07:32.412659  2021-07-01 11:54:47.462582          115  In general, would you say your quality of life...            0 2021-07-01\n214100  145441      110         11  Global survey  2021-07-09 00:00:00  2021-07-09 04:00:00  2021-07-10 04:00:00  2021-07-09 04:08:00.721924  2021-07-09 12:01:56.842804          115  In general, would you say your quality of life...            0 2021-07-09\n214101  132847       94         11  Global survey  2021-07-03 00:00:00  2021-07-03 05:00:00  2021-07-04 05:00:00  2021-07-03 05:07:42.444653  2021-07-03 20:32:52.358196          115  In general, would you say your quality of life...            0 2021-07-03\n214102  127773       55         11  Global survey  2021-07-01 00:00:00  2021-07-01 04:00:00  2021-07-02 04:00:00  2021-07-01 04:07:32.076611  2021-07-01 15:03:31.756573          115  In general, would you say your quality of life...            0 2021-07-01",
      "text/html": "<div>\n<style scoped>\n    .dataframe tbody tr th:only-of-type {\n        vertical-align: middle;\n    }\n\n    .dataframe tbody tr th {\n        vertical-align: top;\n    }\n\n    .dataframe thead th {\n        text-align: right;\n    }\n</style>\n<table border=\"1\" class=\"dataframe\">\n  <thead>\n    <tr style=\"text-align: right;\">\n      <th></th>\n      <th>id</th>\n      <th>user_id</th>\n      <th>survey_id</th>\n      <th>title</th>\n      <th>event_date</th>\n      <th>from</th>\n      <th>to</th>\n      <th>created_at</th>\n      <th>updated_at</th>\n      <th>question_id</th>\n      <th>question_text</th>\n      <th>answer_text</th>\n      <th>date</th>\n    </tr>\n  </thead>\n  <tbody>\n    <tr>\n      <th>214098</th>\n      <td>154994</td>\n      <td>37</td>\n      <td>11</td>\n      <td>Global survey</td>\n      <td>2021-07-13 00:00:00</td>\n      <td>2021-07-13 04:00:00</td>\n      <td>2021-07-14 04:00:00</td>\n      <td>2021-07-13 04:08:01.137807</td>\n      <td>2021-07-13 17:58:54.62095</td>\n      <td>115</td>\n      <td>In general, would you say your quality of life...</td>\n      <td>0</td>\n      <td>2021-07-13</td>\n    </tr>\n    <tr>\n      <th>214099</th>\n      <td>127778</td>\n      <td>81</td>\n      <td>11</td>\n      <td>Global survey</td>\n      <td>2021-07-01 00:00:00</td>\n      <td>2021-07-01 04:00:00</td>\n      <td>2021-07-02 04:00:00</td>\n      <td>2021-07-01 04:07:32.412659</td>\n      <td>2021-07-01 11:54:47.462582</td>\n      <td>115</td>\n      <td>In general, would you say your quality of life...</td>\n      <td>0</td>\n      <td>2021-07-01</td>\n    </tr>\n    <tr>\n      <th>214100</th>\n      <td>145441</td>\n      <td>110</td>\n      <td>11</td>\n      <td>Global survey</td>\n      <td>2021-07-09 00:00:00</td>\n      <td>2021-07-09 04:00:00</td>\n      <td>2021-07-10 04:00:00</td>\n      <td>2021-07-09 04:08:00.721924</td>\n      <td>2021-07-09 12:01:56.842804</td>\n      <td>115</td>\n      <td>In general, would you say your quality of life...</td>\n      <td>0</td>\n      <td>2021-07-09</td>\n    </tr>\n    <tr>\n      <th>214101</th>\n      <td>132847</td>\n      <td>94</td>\n      <td>11</td>\n      <td>Global survey</td>\n      <td>2021-07-03 00:00:00</td>\n      <td>2021-07-03 05:00:00</td>\n      <td>2021-07-04 05:00:00</td>\n      <td>2021-07-03 05:07:42.444653</td>\n      <td>2021-07-03 20:32:52.358196</td>\n      <td>115</td>\n      <td>In general, would you say your quality of life...</td>\n      <td>0</td>\n      <td>2021-07-03</td>\n    </tr>\n    <tr>\n      <th>214102</th>\n      <td>127773</td>\n      <td>55</td>\n      <td>11</td>\n      <td>Global survey</td>\n      <td>2021-07-01 00:00:00</td>\n      <td>2021-07-01 04:00:00</td>\n      <td>2021-07-02 04:00:00</td>\n      <td>2021-07-01 04:07:32.076611</td>\n      <td>2021-07-01 15:03:31.756573</td>\n      <td>115</td>\n      <td>In general, would you say your quality of life...</td>\n      <td>0</td>\n      <td>2021-07-01</td>\n    </tr>\n  </tbody>\n</table>\n</div>"
     },
     "metadata": {},
     "execution_count": 9
    }
   ],
   "source": [
    "promis_survey.head()"
   ]
  },
  {
   "cell_type": "code",
   "execution_count": 10,
   "metadata": {},
   "outputs": [],
   "source": [
    "overall_df = overall_df.merge(promis_survey, how='outer', on=['user_id', 'date'])"
   ]
  },
  {
   "cell_type": "code",
   "execution_count": 11,
   "metadata": {},
   "outputs": [
    {
     "output_type": "execute_result",
     "data": {
      "text/plain": "   record_id  ace_1  ace_2  ace_3  ace_4  ace_5  ace_6  ace_7  ace_8  ace_9  ace_10  ace_complete     redcap_event_name  phq9_1  phq9_2  phq9_3  phq9_4  phq9_5  phq9_6  phq9_7  phq9_8  phq9_9  phq9_10  phq9_complete  gad_1  gad_2  gad_3  gad_4  gad_5  gad_6  gad_7  gad_8  generalized_anxiety_disorder_scale_gad7_complete  user_id       date  id  survey_id title event_date from   to created_at updated_at  question_id question_text  answer_text\n0        4.0    1.0    1.0    0.0    1.0    1.0    0.0    1.0    1.0    0.0     0.0           2.0            ci_1_arm_1     0.0     0.0     3.0     2.0     0.0     0.0     0.0     0.0     0.0      1.0            2.0    1.0    1.0    0.0    2.0    1.0    3.0    0.0    1.0                                               2.0       28 2021-03-18 NaN        NaN   NaN        NaN  NaN  NaN        NaN        NaN          NaN           NaN          NaN\n1        4.0    1.0    1.0    0.0    1.0    1.0    0.0    1.0    1.0    0.0     0.0           2.0            ci_2_arm_1     0.0     0.0     3.0     3.0     0.0     0.0     0.0     0.0     0.0      1.0            2.0    2.0    1.0    1.0    1.0    1.0    3.0    0.0    1.0                                               2.0       28 2021-04-01 NaN        NaN   NaN        NaN  NaN  NaN        NaN        NaN          NaN           NaN          NaN\n2        4.0    1.0    1.0    0.0    1.0    1.0    0.0    1.0    1.0    0.0     0.0           2.0  postnatal_ci_2_arm_1     1.0     0.0     0.0     3.0     0.0     1.0     1.0     1.0     0.0      1.0            2.0    3.0    0.0    1.0    1.0    1.0    3.0    0.0    2.0                                               2.0       28 2021-04-01 NaN        NaN   NaN        NaN  NaN  NaN        NaN        NaN          NaN           NaN          NaN\n3        4.0    1.0    1.0    0.0    1.0    1.0    0.0    1.0    1.0    0.0     0.0           2.0            ci_3_arm_1     0.0     0.0     3.0     3.0     0.0     0.0     0.0     0.0     0.0      1.0            2.0    1.0    1.0    0.0    2.0    2.0    3.0    1.0    1.0                                               2.0       28 2021-04-15 NaN        NaN   NaN        NaN  NaN  NaN        NaN        NaN          NaN           NaN          NaN\n4        4.0    1.0    1.0    0.0    1.0    1.0    0.0    1.0    1.0    0.0     0.0           2.0  postnatal_ci_3_arm_1     0.0     0.0     0.0     1.0     0.0     0.0     1.0     0.0     0.0      1.0            2.0    1.0    0.0    0.0    1.0    1.0    1.0    0.0    1.0                                               2.0       28 2021-04-15 NaN        NaN   NaN        NaN  NaN  NaN        NaN        NaN          NaN           NaN          NaN",
      "text/html": "<div>\n<style scoped>\n    .dataframe tbody tr th:only-of-type {\n        vertical-align: middle;\n    }\n\n    .dataframe tbody tr th {\n        vertical-align: top;\n    }\n\n    .dataframe thead th {\n        text-align: right;\n    }\n</style>\n<table border=\"1\" class=\"dataframe\">\n  <thead>\n    <tr style=\"text-align: right;\">\n      <th></th>\n      <th>record_id</th>\n      <th>ace_1</th>\n      <th>ace_2</th>\n      <th>ace_3</th>\n      <th>ace_4</th>\n      <th>ace_5</th>\n      <th>ace_6</th>\n      <th>ace_7</th>\n      <th>ace_8</th>\n      <th>ace_9</th>\n      <th>ace_10</th>\n      <th>ace_complete</th>\n      <th>redcap_event_name</th>\n      <th>phq9_1</th>\n      <th>phq9_2</th>\n      <th>phq9_3</th>\n      <th>phq9_4</th>\n      <th>phq9_5</th>\n      <th>phq9_6</th>\n      <th>phq9_7</th>\n      <th>phq9_8</th>\n      <th>phq9_9</th>\n      <th>phq9_10</th>\n      <th>phq9_complete</th>\n      <th>gad_1</th>\n      <th>gad_2</th>\n      <th>gad_3</th>\n      <th>gad_4</th>\n      <th>gad_5</th>\n      <th>gad_6</th>\n      <th>gad_7</th>\n      <th>gad_8</th>\n      <th>generalized_anxiety_disorder_scale_gad7_complete</th>\n      <th>user_id</th>\n      <th>date</th>\n      <th>id</th>\n      <th>survey_id</th>\n      <th>title</th>\n      <th>event_date</th>\n      <th>from</th>\n      <th>to</th>\n      <th>created_at</th>\n      <th>updated_at</th>\n      <th>question_id</th>\n      <th>question_text</th>\n      <th>answer_text</th>\n    </tr>\n  </thead>\n  <tbody>\n    <tr>\n      <th>0</th>\n      <td>4.0</td>\n      <td>1.0</td>\n      <td>1.0</td>\n      <td>0.0</td>\n      <td>1.0</td>\n      <td>1.0</td>\n      <td>0.0</td>\n      <td>1.0</td>\n      <td>1.0</td>\n      <td>0.0</td>\n      <td>0.0</td>\n      <td>2.0</td>\n      <td>ci_1_arm_1</td>\n      <td>0.0</td>\n      <td>0.0</td>\n      <td>3.0</td>\n      <td>2.0</td>\n      <td>0.0</td>\n      <td>0.0</td>\n      <td>0.0</td>\n      <td>0.0</td>\n      <td>0.0</td>\n      <td>1.0</td>\n      <td>2.0</td>\n      <td>1.0</td>\n      <td>1.0</td>\n      <td>0.0</td>\n      <td>2.0</td>\n      <td>1.0</td>\n      <td>3.0</td>\n      <td>0.0</td>\n      <td>1.0</td>\n      <td>2.0</td>\n      <td>28</td>\n      <td>2021-03-18</td>\n      <td>NaN</td>\n      <td>NaN</td>\n      <td>NaN</td>\n      <td>NaN</td>\n      <td>NaN</td>\n      <td>NaN</td>\n      <td>NaN</td>\n      <td>NaN</td>\n      <td>NaN</td>\n      <td>NaN</td>\n      <td>NaN</td>\n    </tr>\n    <tr>\n      <th>1</th>\n      <td>4.0</td>\n      <td>1.0</td>\n      <td>1.0</td>\n      <td>0.0</td>\n      <td>1.0</td>\n      <td>1.0</td>\n      <td>0.0</td>\n      <td>1.0</td>\n      <td>1.0</td>\n      <td>0.0</td>\n      <td>0.0</td>\n      <td>2.0</td>\n      <td>ci_2_arm_1</td>\n      <td>0.0</td>\n      <td>0.0</td>\n      <td>3.0</td>\n      <td>3.0</td>\n      <td>0.0</td>\n      <td>0.0</td>\n      <td>0.0</td>\n      <td>0.0</td>\n      <td>0.0</td>\n      <td>1.0</td>\n      <td>2.0</td>\n      <td>2.0</td>\n      <td>1.0</td>\n      <td>1.0</td>\n      <td>1.0</td>\n      <td>1.0</td>\n      <td>3.0</td>\n      <td>0.0</td>\n      <td>1.0</td>\n      <td>2.0</td>\n      <td>28</td>\n      <td>2021-04-01</td>\n      <td>NaN</td>\n      <td>NaN</td>\n      <td>NaN</td>\n      <td>NaN</td>\n      <td>NaN</td>\n      <td>NaN</td>\n      <td>NaN</td>\n      <td>NaN</td>\n      <td>NaN</td>\n      <td>NaN</td>\n      <td>NaN</td>\n    </tr>\n    <tr>\n      <th>2</th>\n      <td>4.0</td>\n      <td>1.0</td>\n      <td>1.0</td>\n      <td>0.0</td>\n      <td>1.0</td>\n      <td>1.0</td>\n      <td>0.0</td>\n      <td>1.0</td>\n      <td>1.0</td>\n      <td>0.0</td>\n      <td>0.0</td>\n      <td>2.0</td>\n      <td>postnatal_ci_2_arm_1</td>\n      <td>1.0</td>\n      <td>0.0</td>\n      <td>0.0</td>\n      <td>3.0</td>\n      <td>0.0</td>\n      <td>1.0</td>\n      <td>1.0</td>\n      <td>1.0</td>\n      <td>0.0</td>\n      <td>1.0</td>\n      <td>2.0</td>\n      <td>3.0</td>\n      <td>0.0</td>\n      <td>1.0</td>\n      <td>1.0</td>\n      <td>1.0</td>\n      <td>3.0</td>\n      <td>0.0</td>\n      <td>2.0</td>\n      <td>2.0</td>\n      <td>28</td>\n      <td>2021-04-01</td>\n      <td>NaN</td>\n      <td>NaN</td>\n      <td>NaN</td>\n      <td>NaN</td>\n      <td>NaN</td>\n      <td>NaN</td>\n      <td>NaN</td>\n      <td>NaN</td>\n      <td>NaN</td>\n      <td>NaN</td>\n      <td>NaN</td>\n    </tr>\n    <tr>\n      <th>3</th>\n      <td>4.0</td>\n      <td>1.0</td>\n      <td>1.0</td>\n      <td>0.0</td>\n      <td>1.0</td>\n      <td>1.0</td>\n      <td>0.0</td>\n      <td>1.0</td>\n      <td>1.0</td>\n      <td>0.0</td>\n      <td>0.0</td>\n      <td>2.0</td>\n      <td>ci_3_arm_1</td>\n      <td>0.0</td>\n      <td>0.0</td>\n      <td>3.0</td>\n      <td>3.0</td>\n      <td>0.0</td>\n      <td>0.0</td>\n      <td>0.0</td>\n      <td>0.0</td>\n      <td>0.0</td>\n      <td>1.0</td>\n      <td>2.0</td>\n      <td>1.0</td>\n      <td>1.0</td>\n      <td>0.0</td>\n      <td>2.0</td>\n      <td>2.0</td>\n      <td>3.0</td>\n      <td>1.0</td>\n      <td>1.0</td>\n      <td>2.0</td>\n      <td>28</td>\n      <td>2021-04-15</td>\n      <td>NaN</td>\n      <td>NaN</td>\n      <td>NaN</td>\n      <td>NaN</td>\n      <td>NaN</td>\n      <td>NaN</td>\n      <td>NaN</td>\n      <td>NaN</td>\n      <td>NaN</td>\n      <td>NaN</td>\n      <td>NaN</td>\n    </tr>\n    <tr>\n      <th>4</th>\n      <td>4.0</td>\n      <td>1.0</td>\n      <td>1.0</td>\n      <td>0.0</td>\n      <td>1.0</td>\n      <td>1.0</td>\n      <td>0.0</td>\n      <td>1.0</td>\n      <td>1.0</td>\n      <td>0.0</td>\n      <td>0.0</td>\n      <td>2.0</td>\n      <td>postnatal_ci_3_arm_1</td>\n      <td>0.0</td>\n      <td>0.0</td>\n      <td>0.0</td>\n      <td>1.0</td>\n      <td>0.0</td>\n      <td>0.0</td>\n      <td>1.0</td>\n      <td>0.0</td>\n      <td>0.0</td>\n      <td>1.0</td>\n      <td>2.0</td>\n      <td>1.0</td>\n      <td>0.0</td>\n      <td>0.0</td>\n      <td>1.0</td>\n      <td>1.0</td>\n      <td>1.0</td>\n      <td>0.0</td>\n      <td>1.0</td>\n      <td>2.0</td>\n      <td>28</td>\n      <td>2021-04-15</td>\n      <td>NaN</td>\n      <td>NaN</td>\n      <td>NaN</td>\n      <td>NaN</td>\n      <td>NaN</td>\n      <td>NaN</td>\n      <td>NaN</td>\n      <td>NaN</td>\n      <td>NaN</td>\n      <td>NaN</td>\n      <td>NaN</td>\n    </tr>\n  </tbody>\n</table>\n</div>"
     },
     "metadata": {},
     "execution_count": 11
    }
   ],
   "source": [
    "overall_df.head()"
   ]
  },
  {
   "source": [
    "# Process PHQ9, GAD and PROMIS data by taking the average over time for each individual"
   ],
   "cell_type": "markdown",
   "metadata": {}
  },
  {
   "cell_type": "code",
   "execution_count": 12,
   "metadata": {},
   "outputs": [],
   "source": [
    "phq9_mean_lst = [f'phq9_{x}_mean' for x in range(1,11)]\n",
    "gad_mean_lst = [f'gad_{x}_mean' for x in range(1,9)]\n",
    "processed_overall_df = pd.DataFrame(columns=['user_id', 'ace_sum', 'promis_mean'] + phq9_mean_lst + gad_mean_lst)\n",
    "for rid in overall_df['user_id'].unique():\n",
    "    each_df = overall_df.loc[overall_df['user_id']==rid]\n",
    "    ace_lst = [f'ace_{x}' for x in range(1,11)]\n",
    "    phq9_lst = [f'phq9_{x}' for x in range(1,11)]\n",
    "    gad_lst = [f'gad_{x}' for x in range(1,9)]\n",
    "    ace_sum = each_df[ace_lst].mean(axis=0).sum()\n",
    "    promis_mean = each_df['answer_text'].mean()\n",
    "    phq9_mean = each_df[phq9_lst].mean(axis=0).rename(lambda x: x + '_mean', axis='columns').to_dict()\n",
    "    gad_mean = each_df[gad_lst].mean(axis=0).rename(lambda x: x + '_mean', axis='columns').to_dict()\n",
    "    processed_overall_df = processed_overall_df.append({'user_id': rid, 'ace_sum': ace_sum, 'promis_mean':promis_mean, **phq9_mean, **gad_mean}, ignore_index=True)\n"
   ]
  },
  {
   "cell_type": "code",
   "execution_count": 28,
   "metadata": {},
   "outputs": [
    {
     "output_type": "execute_result",
     "data": {
      "text/plain": "   user_id  ace_sum  promis_mean  phq9_1_mean  phq9_2_mean  phq9_3_mean  phq9_4_mean  phq9_5_mean  phq9_6_mean  phq9_7_mean  phq9_8_mean  phq9_9_mean  phq9_10_mean  gad_1_mean  gad_2_mean  gad_3_mean  gad_4_mean  gad_5_mean  gad_6_mean  gad_7_mean  gad_8_mean\n0     28.0      6.0     1.222222     0.071429     0.000000     2.357143     2.785714     0.214286     0.142857     0.500000          0.5     0.000000      1.000000    1.428571    0.785714    0.428571    1.214286    1.000000    2.571429    0.142857    1.000000\n1     29.0      4.0     1.428571     0.923077     0.692308     0.923077     1.538462     1.307692     0.538462     0.769231          0.5     0.076923      1.384615    1.615385    1.076923    1.153846    1.615385    1.461538    1.538462    0.461538    1.384615\n2     30.0      0.0     1.333333     0.083333     0.166667     0.500000     1.583333     0.000000     0.083333     0.083333          0.0     0.000000      0.454545    0.916667    0.250000    0.500000    0.083333    0.083333    0.916667    0.500000    0.454545\n3     31.0      4.0     1.500000     0.333333     0.666667     2.666667     1.666667     1.000000     1.000000     0.666667          0.0     0.000000      0.333333    2.000000    2.333333    2.333333    2.333333    1.000000    2.333333    1.333333    0.333333\n4   1018.0      0.0          NaN     0.000000     0.000000     0.153846     0.384615     0.000000     0.000000     0.000000          0.0     0.000000      0.166667    0.000000    0.000000    0.000000    0.000000    0.000000    0.333333    0.000000    0.000000",
      "text/html": "<div>\n<style scoped>\n    .dataframe tbody tr th:only-of-type {\n        vertical-align: middle;\n    }\n\n    .dataframe tbody tr th {\n        vertical-align: top;\n    }\n\n    .dataframe thead th {\n        text-align: right;\n    }\n</style>\n<table border=\"1\" class=\"dataframe\">\n  <thead>\n    <tr style=\"text-align: right;\">\n      <th></th>\n      <th>user_id</th>\n      <th>ace_sum</th>\n      <th>promis_mean</th>\n      <th>phq9_1_mean</th>\n      <th>phq9_2_mean</th>\n      <th>phq9_3_mean</th>\n      <th>phq9_4_mean</th>\n      <th>phq9_5_mean</th>\n      <th>phq9_6_mean</th>\n      <th>phq9_7_mean</th>\n      <th>phq9_8_mean</th>\n      <th>phq9_9_mean</th>\n      <th>phq9_10_mean</th>\n      <th>gad_1_mean</th>\n      <th>gad_2_mean</th>\n      <th>gad_3_mean</th>\n      <th>gad_4_mean</th>\n      <th>gad_5_mean</th>\n      <th>gad_6_mean</th>\n      <th>gad_7_mean</th>\n      <th>gad_8_mean</th>\n    </tr>\n  </thead>\n  <tbody>\n    <tr>\n      <th>0</th>\n      <td>28.0</td>\n      <td>6.0</td>\n      <td>1.222222</td>\n      <td>0.071429</td>\n      <td>0.000000</td>\n      <td>2.357143</td>\n      <td>2.785714</td>\n      <td>0.214286</td>\n      <td>0.142857</td>\n      <td>0.500000</td>\n      <td>0.5</td>\n      <td>0.000000</td>\n      <td>1.000000</td>\n      <td>1.428571</td>\n      <td>0.785714</td>\n      <td>0.428571</td>\n      <td>1.214286</td>\n      <td>1.000000</td>\n      <td>2.571429</td>\n      <td>0.142857</td>\n      <td>1.000000</td>\n    </tr>\n    <tr>\n      <th>1</th>\n      <td>29.0</td>\n      <td>4.0</td>\n      <td>1.428571</td>\n      <td>0.923077</td>\n      <td>0.692308</td>\n      <td>0.923077</td>\n      <td>1.538462</td>\n      <td>1.307692</td>\n      <td>0.538462</td>\n      <td>0.769231</td>\n      <td>0.5</td>\n      <td>0.076923</td>\n      <td>1.384615</td>\n      <td>1.615385</td>\n      <td>1.076923</td>\n      <td>1.153846</td>\n      <td>1.615385</td>\n      <td>1.461538</td>\n      <td>1.538462</td>\n      <td>0.461538</td>\n      <td>1.384615</td>\n    </tr>\n    <tr>\n      <th>2</th>\n      <td>30.0</td>\n      <td>0.0</td>\n      <td>1.333333</td>\n      <td>0.083333</td>\n      <td>0.166667</td>\n      <td>0.500000</td>\n      <td>1.583333</td>\n      <td>0.000000</td>\n      <td>0.083333</td>\n      <td>0.083333</td>\n      <td>0.0</td>\n      <td>0.000000</td>\n      <td>0.454545</td>\n      <td>0.916667</td>\n      <td>0.250000</td>\n      <td>0.500000</td>\n      <td>0.083333</td>\n      <td>0.083333</td>\n      <td>0.916667</td>\n      <td>0.500000</td>\n      <td>0.454545</td>\n    </tr>\n    <tr>\n      <th>3</th>\n      <td>31.0</td>\n      <td>4.0</td>\n      <td>1.500000</td>\n      <td>0.333333</td>\n      <td>0.666667</td>\n      <td>2.666667</td>\n      <td>1.666667</td>\n      <td>1.000000</td>\n      <td>1.000000</td>\n      <td>0.666667</td>\n      <td>0.0</td>\n      <td>0.000000</td>\n      <td>0.333333</td>\n      <td>2.000000</td>\n      <td>2.333333</td>\n      <td>2.333333</td>\n      <td>2.333333</td>\n      <td>1.000000</td>\n      <td>2.333333</td>\n      <td>1.333333</td>\n      <td>0.333333</td>\n    </tr>\n    <tr>\n      <th>4</th>\n      <td>1018.0</td>\n      <td>0.0</td>\n      <td>NaN</td>\n      <td>0.000000</td>\n      <td>0.000000</td>\n      <td>0.153846</td>\n      <td>0.384615</td>\n      <td>0.000000</td>\n      <td>0.000000</td>\n      <td>0.000000</td>\n      <td>0.0</td>\n      <td>0.000000</td>\n      <td>0.166667</td>\n      <td>0.000000</td>\n      <td>0.000000</td>\n      <td>0.000000</td>\n      <td>0.000000</td>\n      <td>0.000000</td>\n      <td>0.333333</td>\n      <td>0.000000</td>\n      <td>0.000000</td>\n    </tr>\n  </tbody>\n</table>\n</div>"
     },
     "metadata": {},
     "execution_count": 28
    }
   ],
   "source": [
    "processed_overall_df.head()"
   ]
  },
  {
   "cell_type": "code",
   "execution_count": null,
   "metadata": {},
   "outputs": [],
   "source": []
  }
 ],
 "metadata": {
  "language_info": {
   "codemirror_mode": {
    "name": "ipython",
    "version": 3
   },
   "file_extension": ".py",
   "mimetype": "text/x-python",
   "name": "python",
   "nbconvert_exporter": "python",
   "pygments_lexer": "ipython3",
   "version": "3.6.10-final"
  },
  "orig_nbformat": 2,
  "kernelspec": {
   "name": "python361064bitbumpenvvenv908c53ecbdb647f396dedf9f95ba2333",
   "display_name": "Python 3.6.10 64-bit ('bump_env': venv)"
  }
 },
 "nbformat": 4,
 "nbformat_minor": 2
}