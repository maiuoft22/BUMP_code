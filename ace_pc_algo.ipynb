{
 "cells": [
  {
   "cell_type": "code",
   "execution_count": 1,
   "metadata": {},
   "outputs": [],
   "source": [
    "from src import utils\n",
    "import pandas as pd"
   ]
  },
  {
   "source": [
    "# Data processing: Join PHQ9, GAD7 and ACE datasets together by record_id and redcap_event_name"
   ],
   "cell_type": "markdown",
   "metadata": {}
  },
  {
   "cell_type": "code",
   "execution_count": 12,
   "metadata": {},
   "outputs": [],
   "source": [
    "data = utils.data_load(data_keys={'phq9', 'generalized_anxiety_disorder_scale_gad7', 'ace', 'surveys'})"
   ]
  },
  {
   "cell_type": "code",
   "execution_count": 13,
   "metadata": {},
   "outputs": [],
   "source": [
    "outcomes = pd.merge(data['phq9'], data['generalized_anxiety_disorder_scale_gad7'],  how='outer', left_on=['record_id','redcap_event_name'], right_on = ['record_id','redcap_event_name'])"
   ]
  },
  {
   "cell_type": "code",
   "execution_count": 15,
   "metadata": {},
   "outputs": [],
   "source": [
    "overall_df = pd.merge(data['ace'].drop(columns=['redcap_event_name']).dropna(), outcomes, how='left', on='record_id')"
   ]
  },
  {
   "cell_type": "code",
   "execution_count": 16,
   "metadata": {},
   "outputs": [
    {
     "output_type": "execute_result",
     "data": {
      "text/plain": "   record_id  ace_1  ace_2  ace_3  ace_4  ace_5  ace_6  ace_7  ace_8  ace_9  ace_10  ace_complete redcap_event_name  phq9_1  phq9_2  phq9_3  phq9_4  phq9_5  phq9_6  phq9_7  phq9_8  phq9_9  phq9_10  phq9_complete  gad_1  gad_2  gad_3  gad_4  gad_5  gad_6  gad_7  gad_8  generalized_anxiety_disorder_scale_gad7_complete\n0          4      1      1      0    1.0      1      0      1      1      0       0             2        ci_1_arm_1     0.0     0.0     3.0     2.0     0.0     0.0     0.0     0.0     0.0      1.0              2    1.0    1.0    0.0    2.0    1.0    3.0    0.0    1.0                                               2.0\n1          4      1      1      0    1.0      1      0      1      1      0       0             2        ci_2_arm_1     0.0     0.0     3.0     3.0     0.0     0.0     0.0     0.0     0.0      1.0              2    2.0    1.0    1.0    1.0    1.0    3.0    0.0    1.0                                               2.0\n2          4      1      1      0    1.0      1      0      1      1      0       0             2        ci_3_arm_1     0.0     0.0     3.0     3.0     0.0     0.0     0.0     0.0     0.0      1.0              2    1.0    1.0    0.0    2.0    2.0    3.0    1.0    1.0                                               2.0\n3          4      1      1      0    1.0      1      0      1      1      0       0             2        ci_4_arm_1     0.0     0.0     3.0     3.0     0.0     0.0     0.0     0.0     0.0      1.0              2    1.0    1.0    0.0    1.0    0.0    2.0    0.0    0.0                                               2.0\n4          4      1      1      0    1.0      1      0      1      1      0       0             2        ci_5_arm_1     0.0     0.0     3.0     3.0     0.0     0.0     0.0     0.0     0.0      1.0              2    1.0    0.0    0.0    1.0    1.0    1.0    0.0    1.0                                               2.0",
      "text/html": "<div>\n<style scoped>\n    .dataframe tbody tr th:only-of-type {\n        vertical-align: middle;\n    }\n\n    .dataframe tbody tr th {\n        vertical-align: top;\n    }\n\n    .dataframe thead th {\n        text-align: right;\n    }\n</style>\n<table border=\"1\" class=\"dataframe\">\n  <thead>\n    <tr style=\"text-align: right;\">\n      <th></th>\n      <th>record_id</th>\n      <th>ace_1</th>\n      <th>ace_2</th>\n      <th>ace_3</th>\n      <th>ace_4</th>\n      <th>ace_5</th>\n      <th>ace_6</th>\n      <th>ace_7</th>\n      <th>ace_8</th>\n      <th>ace_9</th>\n      <th>ace_10</th>\n      <th>ace_complete</th>\n      <th>redcap_event_name</th>\n      <th>phq9_1</th>\n      <th>phq9_2</th>\n      <th>phq9_3</th>\n      <th>phq9_4</th>\n      <th>phq9_5</th>\n      <th>phq9_6</th>\n      <th>phq9_7</th>\n      <th>phq9_8</th>\n      <th>phq9_9</th>\n      <th>phq9_10</th>\n      <th>phq9_complete</th>\n      <th>gad_1</th>\n      <th>gad_2</th>\n      <th>gad_3</th>\n      <th>gad_4</th>\n      <th>gad_5</th>\n      <th>gad_6</th>\n      <th>gad_7</th>\n      <th>gad_8</th>\n      <th>generalized_anxiety_disorder_scale_gad7_complete</th>\n    </tr>\n  </thead>\n  <tbody>\n    <tr>\n      <th>0</th>\n      <td>4</td>\n      <td>1</td>\n      <td>1</td>\n      <td>0</td>\n      <td>1.0</td>\n      <td>1</td>\n      <td>0</td>\n      <td>1</td>\n      <td>1</td>\n      <td>0</td>\n      <td>0</td>\n      <td>2</td>\n      <td>ci_1_arm_1</td>\n      <td>0.0</td>\n      <td>0.0</td>\n      <td>3.0</td>\n      <td>2.0</td>\n      <td>0.0</td>\n      <td>0.0</td>\n      <td>0.0</td>\n      <td>0.0</td>\n      <td>0.0</td>\n      <td>1.0</td>\n      <td>2</td>\n      <td>1.0</td>\n      <td>1.0</td>\n      <td>0.0</td>\n      <td>2.0</td>\n      <td>1.0</td>\n      <td>3.0</td>\n      <td>0.0</td>\n      <td>1.0</td>\n      <td>2.0</td>\n    </tr>\n    <tr>\n      <th>1</th>\n      <td>4</td>\n      <td>1</td>\n      <td>1</td>\n      <td>0</td>\n      <td>1.0</td>\n      <td>1</td>\n      <td>0</td>\n      <td>1</td>\n      <td>1</td>\n      <td>0</td>\n      <td>0</td>\n      <td>2</td>\n      <td>ci_2_arm_1</td>\n      <td>0.0</td>\n      <td>0.0</td>\n      <td>3.0</td>\n      <td>3.0</td>\n      <td>0.0</td>\n      <td>0.0</td>\n      <td>0.0</td>\n      <td>0.0</td>\n      <td>0.0</td>\n      <td>1.0</td>\n      <td>2</td>\n      <td>2.0</td>\n      <td>1.0</td>\n      <td>1.0</td>\n      <td>1.0</td>\n      <td>1.0</td>\n      <td>3.0</td>\n      <td>0.0</td>\n      <td>1.0</td>\n      <td>2.0</td>\n    </tr>\n    <tr>\n      <th>2</th>\n      <td>4</td>\n      <td>1</td>\n      <td>1</td>\n      <td>0</td>\n      <td>1.0</td>\n      <td>1</td>\n      <td>0</td>\n      <td>1</td>\n      <td>1</td>\n      <td>0</td>\n      <td>0</td>\n      <td>2</td>\n      <td>ci_3_arm_1</td>\n      <td>0.0</td>\n      <td>0.0</td>\n      <td>3.0</td>\n      <td>3.0</td>\n      <td>0.0</td>\n      <td>0.0</td>\n      <td>0.0</td>\n      <td>0.0</td>\n      <td>0.0</td>\n      <td>1.0</td>\n      <td>2</td>\n      <td>1.0</td>\n      <td>1.0</td>\n      <td>0.0</td>\n      <td>2.0</td>\n      <td>2.0</td>\n      <td>3.0</td>\n      <td>1.0</td>\n      <td>1.0</td>\n      <td>2.0</td>\n    </tr>\n    <tr>\n      <th>3</th>\n      <td>4</td>\n      <td>1</td>\n      <td>1</td>\n      <td>0</td>\n      <td>1.0</td>\n      <td>1</td>\n      <td>0</td>\n      <td>1</td>\n      <td>1</td>\n      <td>0</td>\n      <td>0</td>\n      <td>2</td>\n      <td>ci_4_arm_1</td>\n      <td>0.0</td>\n      <td>0.0</td>\n      <td>3.0</td>\n      <td>3.0</td>\n      <td>0.0</td>\n      <td>0.0</td>\n      <td>0.0</td>\n      <td>0.0</td>\n      <td>0.0</td>\n      <td>1.0</td>\n      <td>2</td>\n      <td>1.0</td>\n      <td>1.0</td>\n      <td>0.0</td>\n      <td>1.0</td>\n      <td>0.0</td>\n      <td>2.0</td>\n      <td>0.0</td>\n      <td>0.0</td>\n      <td>2.0</td>\n    </tr>\n    <tr>\n      <th>4</th>\n      <td>4</td>\n      <td>1</td>\n      <td>1</td>\n      <td>0</td>\n      <td>1.0</td>\n      <td>1</td>\n      <td>0</td>\n      <td>1</td>\n      <td>1</td>\n      <td>0</td>\n      <td>0</td>\n      <td>2</td>\n      <td>ci_5_arm_1</td>\n      <td>0.0</td>\n      <td>0.0</td>\n      <td>3.0</td>\n      <td>3.0</td>\n      <td>0.0</td>\n      <td>0.0</td>\n      <td>0.0</td>\n      <td>0.0</td>\n      <td>0.0</td>\n      <td>1.0</td>\n      <td>2</td>\n      <td>1.0</td>\n      <td>0.0</td>\n      <td>0.0</td>\n      <td>1.0</td>\n      <td>1.0</td>\n      <td>1.0</td>\n      <td>0.0</td>\n      <td>1.0</td>\n      <td>2.0</td>\n    </tr>\n  </tbody>\n</table>\n</div>"
     },
     "metadata": {},
     "execution_count": 16
    }
   ],
   "source": [
    "pd.set_option('display.max_rows', 500)\n",
    "pd.set_option('display.max_columns', 500)\n",
    "pd.set_option('display.width', 1000)\n",
    "overall_df.head()"
   ]
  },
  {
   "source": [
    "# Process PHQ9 and GAD data by taking the average over time for each individual"
   ],
   "cell_type": "markdown",
   "metadata": {}
  },
  {
   "cell_type": "code",
   "execution_count": 38,
   "metadata": {},
   "outputs": [],
   "source": [
    "phq9_mean_lst = [f'phq9_{x}_mean' for x in range(1,11)]\n",
    "gad_mean_lst = [f'gad_{x}_mean' for x in range(1,9)]\n",
    "processed_overall_df = pd.DataFrame(columns=['record_id', 'ace_sum'] + phq9_mean_lst + gad_mean_lst)\n",
    "for rid in overall_df['record_id'].unique():\n",
    "    each_df = overall_df.loc[overall_df['record_id']==rid]\n",
    "    ace_lst = [f'ace_{x}' for x in range(1,11)]\n",
    "    phq9_lst = [f'phq9_{x}' for x in range(1,11)]\n",
    "    gad_lst = [f'gad_{x}' for x in range(1,9)]\n",
    "    ace_sum = each_df[ace_lst].mean(axis=0).sum()\n",
    "    phq9_mean = each_df[phq9_lst].mean(axis=0).rename(lambda x: x + '_mean', axis='columns').to_dict()\n",
    "    gad_mean = each_df[gad_lst].mean(axis=0).rename(lambda x: x + '_mean', axis='columns').to_dict()\n",
    "    processed_overall_df = processed_overall_df.append({'record_id': rid, 'ace_sum': ace_sum, **phq9_mean, **gad_mean}, ignore_index=True)\n"
   ]
  },
  {
   "cell_type": "code",
   "execution_count": 40,
   "metadata": {},
   "outputs": [
    {
     "output_type": "execute_result",
     "data": {
      "text/plain": "   record_id  ace_sum  phq9_1_mean  phq9_2_mean  phq9_3_mean  phq9_4_mean  phq9_5_mean  phq9_6_mean  phq9_7_mean  phq9_8_mean  phq9_9_mean  phq9_10_mean  gad_1_mean  gad_2_mean  gad_3_mean  gad_4_mean  gad_5_mean  gad_6_mean  gad_7_mean  gad_8_mean\n0        4.0      6.0     0.071429     0.000000     2.357143     2.785714     0.214286     0.142857     0.500000          0.5     0.000000      1.000000    1.428571    0.785714    0.428571    1.214286    1.000000    2.571429    0.142857    1.000000\n1        5.0      4.0     0.923077     0.692308     0.923077     1.538462     1.307692     0.538462     0.769231          0.5     0.076923      1.384615    1.615385    1.076923    1.153846    1.615385    1.461538    1.538462    0.461538    1.384615\n2        6.0      0.0     0.083333     0.166667     0.500000     1.583333     0.000000     0.083333     0.083333          0.0     0.000000      0.454545    0.916667    0.250000    0.500000    0.083333    0.083333    0.916667    0.500000    0.454545\n3        7.0      4.0     0.333333     0.666667     2.666667     1.666667     1.000000     1.000000     0.666667          0.0     0.000000      0.333333    2.000000    2.333333    2.333333    2.333333    1.000000    2.333333    1.333333    0.333333\n4       11.0      0.0     0.000000     0.000000     0.153846     0.384615     0.000000     0.000000     0.000000          0.0     0.000000      0.166667    0.000000    0.000000    0.000000    0.000000    0.000000    0.333333    0.000000    0.000000",
      "text/html": "<div>\n<style scoped>\n    .dataframe tbody tr th:only-of-type {\n        vertical-align: middle;\n    }\n\n    .dataframe tbody tr th {\n        vertical-align: top;\n    }\n\n    .dataframe thead th {\n        text-align: right;\n    }\n</style>\n<table border=\"1\" class=\"dataframe\">\n  <thead>\n    <tr style=\"text-align: right;\">\n      <th></th>\n      <th>record_id</th>\n      <th>ace_sum</th>\n      <th>phq9_1_mean</th>\n      <th>phq9_2_mean</th>\n      <th>phq9_3_mean</th>\n      <th>phq9_4_mean</th>\n      <th>phq9_5_mean</th>\n      <th>phq9_6_mean</th>\n      <th>phq9_7_mean</th>\n      <th>phq9_8_mean</th>\n      <th>phq9_9_mean</th>\n      <th>phq9_10_mean</th>\n      <th>gad_1_mean</th>\n      <th>gad_2_mean</th>\n      <th>gad_3_mean</th>\n      <th>gad_4_mean</th>\n      <th>gad_5_mean</th>\n      <th>gad_6_mean</th>\n      <th>gad_7_mean</th>\n      <th>gad_8_mean</th>\n    </tr>\n  </thead>\n  <tbody>\n    <tr>\n      <th>0</th>\n      <td>4.0</td>\n      <td>6.0</td>\n      <td>0.071429</td>\n      <td>0.000000</td>\n      <td>2.357143</td>\n      <td>2.785714</td>\n      <td>0.214286</td>\n      <td>0.142857</td>\n      <td>0.500000</td>\n      <td>0.5</td>\n      <td>0.000000</td>\n      <td>1.000000</td>\n      <td>1.428571</td>\n      <td>0.785714</td>\n      <td>0.428571</td>\n      <td>1.214286</td>\n      <td>1.000000</td>\n      <td>2.571429</td>\n      <td>0.142857</td>\n      <td>1.000000</td>\n    </tr>\n    <tr>\n      <th>1</th>\n      <td>5.0</td>\n      <td>4.0</td>\n      <td>0.923077</td>\n      <td>0.692308</td>\n      <td>0.923077</td>\n      <td>1.538462</td>\n      <td>1.307692</td>\n      <td>0.538462</td>\n      <td>0.769231</td>\n      <td>0.5</td>\n      <td>0.076923</td>\n      <td>1.384615</td>\n      <td>1.615385</td>\n      <td>1.076923</td>\n      <td>1.153846</td>\n      <td>1.615385</td>\n      <td>1.461538</td>\n      <td>1.538462</td>\n      <td>0.461538</td>\n      <td>1.384615</td>\n    </tr>\n    <tr>\n      <th>2</th>\n      <td>6.0</td>\n      <td>0.0</td>\n      <td>0.083333</td>\n      <td>0.166667</td>\n      <td>0.500000</td>\n      <td>1.583333</td>\n      <td>0.000000</td>\n      <td>0.083333</td>\n      <td>0.083333</td>\n      <td>0.0</td>\n      <td>0.000000</td>\n      <td>0.454545</td>\n      <td>0.916667</td>\n      <td>0.250000</td>\n      <td>0.500000</td>\n      <td>0.083333</td>\n      <td>0.083333</td>\n      <td>0.916667</td>\n      <td>0.500000</td>\n      <td>0.454545</td>\n    </tr>\n    <tr>\n      <th>3</th>\n      <td>7.0</td>\n      <td>4.0</td>\n      <td>0.333333</td>\n      <td>0.666667</td>\n      <td>2.666667</td>\n      <td>1.666667</td>\n      <td>1.000000</td>\n      <td>1.000000</td>\n      <td>0.666667</td>\n      <td>0.0</td>\n      <td>0.000000</td>\n      <td>0.333333</td>\n      <td>2.000000</td>\n      <td>2.333333</td>\n      <td>2.333333</td>\n      <td>2.333333</td>\n      <td>1.000000</td>\n      <td>2.333333</td>\n      <td>1.333333</td>\n      <td>0.333333</td>\n    </tr>\n    <tr>\n      <th>4</th>\n      <td>11.0</td>\n      <td>0.0</td>\n      <td>0.000000</td>\n      <td>0.000000</td>\n      <td>0.153846</td>\n      <td>0.384615</td>\n      <td>0.000000</td>\n      <td>0.000000</td>\n      <td>0.000000</td>\n      <td>0.0</td>\n      <td>0.000000</td>\n      <td>0.166667</td>\n      <td>0.000000</td>\n      <td>0.000000</td>\n      <td>0.000000</td>\n      <td>0.000000</td>\n      <td>0.000000</td>\n      <td>0.333333</td>\n      <td>0.000000</td>\n      <td>0.000000</td>\n    </tr>\n  </tbody>\n</table>\n</div>"
     },
     "metadata": {},
     "execution_count": 40
    }
   ],
   "source": [
    "processed_overall_df.head()"
   ]
  },
  {
   "source": [
    "# Next: Global survey data - PROMIS quality of life, I'm unable to join this with the overall_df dataframe"
   ],
   "cell_type": "markdown",
   "metadata": {}
  },
  {
   "cell_type": "code",
   "execution_count": 8,
   "metadata": {},
   "outputs": [],
   "source": [
    "promis_survey = data['surveys']\n",
    "promis_survey = promis_survey.loc[promis_survey['question_text'] == 'In general, would you say your quality of life is:']"
   ]
  },
  {
   "cell_type": "code",
   "execution_count": 29,
   "metadata": {},
   "outputs": [],
   "source": [
    "user_ids = utils.data_load(data_keys={'study_ids'})['study_ids']['evidation_id', 'record_id']"
   ]
  },
  {
   "cell_type": "code",
   "execution_count": 40,
   "metadata": {},
   "outputs": [
    {
     "output_type": "execute_result",
     "data": {
      "text/plain": "             id  user_id  survey_id          title           event_date  \\\n214098   154994       37         11  Global survey  2021-07-13 00:00:00   \n214099   127778       81         11  Global survey  2021-07-01 00:00:00   \n214100   145441      110         11  Global survey  2021-07-09 00:00:00   \n214101   132847       94         11  Global survey  2021-07-03 00:00:00   \n214102   127773       55         11  Global survey  2021-07-01 00:00:00   \n...         ...      ...        ...            ...                  ...   \n215354   469941      186         11  Global survey  2021-11-03 00:00:00   \n215355  1070054     1745         11  Global survey  2022-03-11 00:00:00   \n215356   993378     1699         11  Global survey  2022-02-25 00:00:00   \n215357   963407     1021         11  Global survey  2022-02-19 00:00:00   \n215358   958567     1439         11  Global survey  2022-02-17 00:00:00   \n\n                       from                   to                  created_at  \\\n214098  2021-07-13 04:00:00  2021-07-14 04:00:00  2021-07-13 04:08:01.137807   \n214099  2021-07-01 04:00:00  2021-07-02 04:00:00  2021-07-01 04:07:32.412659   \n214100  2021-07-09 04:00:00  2021-07-10 04:00:00  2021-07-09 04:08:00.721924   \n214101  2021-07-03 05:00:00  2021-07-04 05:00:00  2021-07-03 05:07:42.444653   \n214102  2021-07-01 04:00:00  2021-07-02 04:00:00  2021-07-01 04:07:32.076611   \n...                     ...                  ...                         ...   \n215354  2021-11-02 04:00:00  2021-11-03 04:00:00  2021-11-02 04:10:30.989147   \n215355  2022-03-11 07:00:00  2022-03-12 06:00:00  2022-03-11 06:41:28.065601   \n215356  2022-02-24 06:00:00  2022-02-25 05:00:00  2022-02-24 05:31:38.265878   \n215357  2022-02-18 06:00:00  2022-02-19 05:00:00  2022-02-18 05:31:15.206333   \n215358  2022-02-17 06:00:00  2022-02-18 05:00:00  2022-02-17 05:30:21.929788   \n\n                        updated_at  question_id  \\\n214098   2021-07-13 17:58:54.62095          115   \n214099  2021-07-01 11:54:47.462582          115   \n214100  2021-07-09 12:01:56.842804          115   \n214101  2021-07-03 20:32:52.358196          115   \n214102  2021-07-01 15:03:31.756573          115   \n...                            ...          ...   \n215354  2021-11-03 00:48:27.847439          115   \n215355  2022-03-11 22:02:47.311421          115   \n215356  2022-02-25 01:05:00.187846          115   \n215357  2022-02-19 00:01:35.303646          115   \n215358  2022-02-17 09:57:47.730374          115   \n\n                                            question_text answer_text  \\\n214098  In general, would you say your quality of life...   Excellent   \n214099  In general, would you say your quality of life...   Excellent   \n214100  In general, would you say your quality of life...   Excellent   \n214101  In general, would you say your quality of life...   Excellent   \n214102  In general, would you say your quality of life...   Excellent   \n...                                                   ...         ...   \n215354  In general, would you say your quality of life...        Fair   \n215355  In general, would you say your quality of life...        Fair   \n215356  In general, would you say your quality of life...        Fair   \n215357  In general, would you say your quality of life...        Fair   \n215358  In general, would you say your quality of life...        Fair   \n\n              date  \n214098  2021-07-13  \n214099  2021-07-01  \n214100  2021-07-09  \n214101  2021-07-03  \n214102  2021-07-01  \n...            ...  \n215354  2021-11-03  \n215355  2022-03-11  \n215356  2022-02-25  \n215357  2022-02-19  \n215358  2022-02-17  \n\n[1261 rows x 13 columns]",
      "text/html": "<div>\n<style scoped>\n    .dataframe tbody tr th:only-of-type {\n        vertical-align: middle;\n    }\n\n    .dataframe tbody tr th {\n        vertical-align: top;\n    }\n\n    .dataframe thead th {\n        text-align: right;\n    }\n</style>\n<table border=\"1\" class=\"dataframe\">\n  <thead>\n    <tr style=\"text-align: right;\">\n      <th></th>\n      <th>id</th>\n      <th>user_id</th>\n      <th>survey_id</th>\n      <th>title</th>\n      <th>event_date</th>\n      <th>from</th>\n      <th>to</th>\n      <th>created_at</th>\n      <th>updated_at</th>\n      <th>question_id</th>\n      <th>question_text</th>\n      <th>answer_text</th>\n      <th>date</th>\n    </tr>\n  </thead>\n  <tbody>\n    <tr>\n      <th>214098</th>\n      <td>154994</td>\n      <td>37</td>\n      <td>11</td>\n      <td>Global survey</td>\n      <td>2021-07-13 00:00:00</td>\n      <td>2021-07-13 04:00:00</td>\n      <td>2021-07-14 04:00:00</td>\n      <td>2021-07-13 04:08:01.137807</td>\n      <td>2021-07-13 17:58:54.62095</td>\n      <td>115</td>\n      <td>In general, would you say your quality of life...</td>\n      <td>Excellent</td>\n      <td>2021-07-13</td>\n    </tr>\n    <tr>\n      <th>214099</th>\n      <td>127778</td>\n      <td>81</td>\n      <td>11</td>\n      <td>Global survey</td>\n      <td>2021-07-01 00:00:00</td>\n      <td>2021-07-01 04:00:00</td>\n      <td>2021-07-02 04:00:00</td>\n      <td>2021-07-01 04:07:32.412659</td>\n      <td>2021-07-01 11:54:47.462582</td>\n      <td>115</td>\n      <td>In general, would you say your quality of life...</td>\n      <td>Excellent</td>\n      <td>2021-07-01</td>\n    </tr>\n    <tr>\n      <th>214100</th>\n      <td>145441</td>\n      <td>110</td>\n      <td>11</td>\n      <td>Global survey</td>\n      <td>2021-07-09 00:00:00</td>\n      <td>2021-07-09 04:00:00</td>\n      <td>2021-07-10 04:00:00</td>\n      <td>2021-07-09 04:08:00.721924</td>\n      <td>2021-07-09 12:01:56.842804</td>\n      <td>115</td>\n      <td>In general, would you say your quality of life...</td>\n      <td>Excellent</td>\n      <td>2021-07-09</td>\n    </tr>\n    <tr>\n      <th>214101</th>\n      <td>132847</td>\n      <td>94</td>\n      <td>11</td>\n      <td>Global survey</td>\n      <td>2021-07-03 00:00:00</td>\n      <td>2021-07-03 05:00:00</td>\n      <td>2021-07-04 05:00:00</td>\n      <td>2021-07-03 05:07:42.444653</td>\n      <td>2021-07-03 20:32:52.358196</td>\n      <td>115</td>\n      <td>In general, would you say your quality of life...</td>\n      <td>Excellent</td>\n      <td>2021-07-03</td>\n    </tr>\n    <tr>\n      <th>214102</th>\n      <td>127773</td>\n      <td>55</td>\n      <td>11</td>\n      <td>Global survey</td>\n      <td>2021-07-01 00:00:00</td>\n      <td>2021-07-01 04:00:00</td>\n      <td>2021-07-02 04:00:00</td>\n      <td>2021-07-01 04:07:32.076611</td>\n      <td>2021-07-01 15:03:31.756573</td>\n      <td>115</td>\n      <td>In general, would you say your quality of life...</td>\n      <td>Excellent</td>\n      <td>2021-07-01</td>\n    </tr>\n    <tr>\n      <th>...</th>\n      <td>...</td>\n      <td>...</td>\n      <td>...</td>\n      <td>...</td>\n      <td>...</td>\n      <td>...</td>\n      <td>...</td>\n      <td>...</td>\n      <td>...</td>\n      <td>...</td>\n      <td>...</td>\n      <td>...</td>\n      <td>...</td>\n    </tr>\n    <tr>\n      <th>215354</th>\n      <td>469941</td>\n      <td>186</td>\n      <td>11</td>\n      <td>Global survey</td>\n      <td>2021-11-03 00:00:00</td>\n      <td>2021-11-02 04:00:00</td>\n      <td>2021-11-03 04:00:00</td>\n      <td>2021-11-02 04:10:30.989147</td>\n      <td>2021-11-03 00:48:27.847439</td>\n      <td>115</td>\n      <td>In general, would you say your quality of life...</td>\n      <td>Fair</td>\n      <td>2021-11-03</td>\n    </tr>\n    <tr>\n      <th>215355</th>\n      <td>1070054</td>\n      <td>1745</td>\n      <td>11</td>\n      <td>Global survey</td>\n      <td>2022-03-11 00:00:00</td>\n      <td>2022-03-11 07:00:00</td>\n      <td>2022-03-12 06:00:00</td>\n      <td>2022-03-11 06:41:28.065601</td>\n      <td>2022-03-11 22:02:47.311421</td>\n      <td>115</td>\n      <td>In general, would you say your quality of life...</td>\n      <td>Fair</td>\n      <td>2022-03-11</td>\n    </tr>\n    <tr>\n      <th>215356</th>\n      <td>993378</td>\n      <td>1699</td>\n      <td>11</td>\n      <td>Global survey</td>\n      <td>2022-02-25 00:00:00</td>\n      <td>2022-02-24 06:00:00</td>\n      <td>2022-02-25 05:00:00</td>\n      <td>2022-02-24 05:31:38.265878</td>\n      <td>2022-02-25 01:05:00.187846</td>\n      <td>115</td>\n      <td>In general, would you say your quality of life...</td>\n      <td>Fair</td>\n      <td>2022-02-25</td>\n    </tr>\n    <tr>\n      <th>215357</th>\n      <td>963407</td>\n      <td>1021</td>\n      <td>11</td>\n      <td>Global survey</td>\n      <td>2022-02-19 00:00:00</td>\n      <td>2022-02-18 06:00:00</td>\n      <td>2022-02-19 05:00:00</td>\n      <td>2022-02-18 05:31:15.206333</td>\n      <td>2022-02-19 00:01:35.303646</td>\n      <td>115</td>\n      <td>In general, would you say your quality of life...</td>\n      <td>Fair</td>\n      <td>2022-02-19</td>\n    </tr>\n    <tr>\n      <th>215358</th>\n      <td>958567</td>\n      <td>1439</td>\n      <td>11</td>\n      <td>Global survey</td>\n      <td>2022-02-17 00:00:00</td>\n      <td>2022-02-17 06:00:00</td>\n      <td>2022-02-18 05:00:00</td>\n      <td>2022-02-17 05:30:21.929788</td>\n      <td>2022-02-17 09:57:47.730374</td>\n      <td>115</td>\n      <td>In general, would you say your quality of life...</td>\n      <td>Fair</td>\n      <td>2022-02-17</td>\n    </tr>\n  </tbody>\n</table>\n<p>1261 rows × 13 columns</p>\n</div>"
     },
     "metadata": {},
     "execution_count": 40
    }
   ],
   "source": [
    "promis_survey.loc[promis_survey['user_id'] == 37]"
   ]
  },
  {
   "cell_type": "code",
   "execution_count": 39,
   "metadata": {},
   "outputs": [
    {
     "output_type": "execute_result",
     "data": {
      "text/plain": "     record_id         redcap_event_name  participant_id       sema4_id  \\\n0            1  enrollment__partic_arm_1               1   EVI-HQYBGEMV   \n1            2  enrollment__partic_arm_1               2   EVI-UYERWPZG   \n2            3  enrollment__partic_arm_1               3   EVI-IHVYSQTW   \n3            4  enrollment__partic_arm_1               4   EVI-AWRFLXIP   \n4            5  enrollment__partic_arm_1               5   EVI-SHDBCNYF   \n..         ...                       ...             ...            ...   \n687        893  enrollment__partic_arm_1             893  BUMP-ZCVLKXEF   \n688        894  enrollment__partic_arm_1             894  BUMP-CDYVZWGN   \n689        895  enrollment__partic_arm_1             895  BUMP-ESHQKOMW   \n690        896  enrollment__partic_arm_1             896  BUMP-APIGVLJQ   \n691        897  enrollment__partic_arm_1             897  BUMP-NAELHWXO   \n\n     evidation_id  evidation_id_prior1  evidation_id_prior2  evidation_id_c  \\\n0            25.0                  NaN                  NaN             NaN   \n1             NaN                  NaN                  NaN             NaN   \n2            27.0                  NaN                  NaN             NaN   \n3            28.0                  NaN                  NaN             NaN   \n4            29.0                  NaN                  NaN             NaN   \n..            ...                  ...                  ...             ...   \n687        2171.0                  NaN                  NaN             NaN   \n688        2180.0                  NaN                  NaN             NaN   \n689           NaN                  NaN                  NaN          2185.0   \n690        2209.0                  NaN                  NaN             NaN   \n691        2210.0                  NaN                  NaN             NaN   \n\n     study_ids_complete  \n0                     2  \n1                     2  \n2                     2  \n3                     2  \n4                     2  \n..                  ...  \n687                   2  \n688                   2  \n689                   2  \n690                   2  \n691                   2  \n\n[692 rows x 9 columns]",
      "text/html": "<div>\n<style scoped>\n    .dataframe tbody tr th:only-of-type {\n        vertical-align: middle;\n    }\n\n    .dataframe tbody tr th {\n        vertical-align: top;\n    }\n\n    .dataframe thead th {\n        text-align: right;\n    }\n</style>\n<table border=\"1\" class=\"dataframe\">\n  <thead>\n    <tr style=\"text-align: right;\">\n      <th></th>\n      <th>record_id</th>\n      <th>redcap_event_name</th>\n      <th>participant_id</th>\n      <th>sema4_id</th>\n      <th>evidation_id</th>\n      <th>evidation_id_prior1</th>\n      <th>evidation_id_prior2</th>\n      <th>evidation_id_c</th>\n      <th>study_ids_complete</th>\n    </tr>\n  </thead>\n  <tbody>\n    <tr>\n      <th>0</th>\n      <td>1</td>\n      <td>enrollment__partic_arm_1</td>\n      <td>1</td>\n      <td>EVI-HQYBGEMV</td>\n      <td>25.0</td>\n      <td>NaN</td>\n      <td>NaN</td>\n      <td>NaN</td>\n      <td>2</td>\n    </tr>\n    <tr>\n      <th>1</th>\n      <td>2</td>\n      <td>enrollment__partic_arm_1</td>\n      <td>2</td>\n      <td>EVI-UYERWPZG</td>\n      <td>NaN</td>\n      <td>NaN</td>\n      <td>NaN</td>\n      <td>NaN</td>\n      <td>2</td>\n    </tr>\n    <tr>\n      <th>2</th>\n      <td>3</td>\n      <td>enrollment__partic_arm_1</td>\n      <td>3</td>\n      <td>EVI-IHVYSQTW</td>\n      <td>27.0</td>\n      <td>NaN</td>\n      <td>NaN</td>\n      <td>NaN</td>\n      <td>2</td>\n    </tr>\n    <tr>\n      <th>3</th>\n      <td>4</td>\n      <td>enrollment__partic_arm_1</td>\n      <td>4</td>\n      <td>EVI-AWRFLXIP</td>\n      <td>28.0</td>\n      <td>NaN</td>\n      <td>NaN</td>\n      <td>NaN</td>\n      <td>2</td>\n    </tr>\n    <tr>\n      <th>4</th>\n      <td>5</td>\n      <td>enrollment__partic_arm_1</td>\n      <td>5</td>\n      <td>EVI-SHDBCNYF</td>\n      <td>29.0</td>\n      <td>NaN</td>\n      <td>NaN</td>\n      <td>NaN</td>\n      <td>2</td>\n    </tr>\n    <tr>\n      <th>...</th>\n      <td>...</td>\n      <td>...</td>\n      <td>...</td>\n      <td>...</td>\n      <td>...</td>\n      <td>...</td>\n      <td>...</td>\n      <td>...</td>\n      <td>...</td>\n    </tr>\n    <tr>\n      <th>687</th>\n      <td>893</td>\n      <td>enrollment__partic_arm_1</td>\n      <td>893</td>\n      <td>BUMP-ZCVLKXEF</td>\n      <td>2171.0</td>\n      <td>NaN</td>\n      <td>NaN</td>\n      <td>NaN</td>\n      <td>2</td>\n    </tr>\n    <tr>\n      <th>688</th>\n      <td>894</td>\n      <td>enrollment__partic_arm_1</td>\n      <td>894</td>\n      <td>BUMP-CDYVZWGN</td>\n      <td>2180.0</td>\n      <td>NaN</td>\n      <td>NaN</td>\n      <td>NaN</td>\n      <td>2</td>\n    </tr>\n    <tr>\n      <th>689</th>\n      <td>895</td>\n      <td>enrollment__partic_arm_1</td>\n      <td>895</td>\n      <td>BUMP-ESHQKOMW</td>\n      <td>NaN</td>\n      <td>NaN</td>\n      <td>NaN</td>\n      <td>2185.0</td>\n      <td>2</td>\n    </tr>\n    <tr>\n      <th>690</th>\n      <td>896</td>\n      <td>enrollment__partic_arm_1</td>\n      <td>896</td>\n      <td>BUMP-APIGVLJQ</td>\n      <td>2209.0</td>\n      <td>NaN</td>\n      <td>NaN</td>\n      <td>NaN</td>\n      <td>2</td>\n    </tr>\n    <tr>\n      <th>691</th>\n      <td>897</td>\n      <td>enrollment__partic_arm_1</td>\n      <td>897</td>\n      <td>BUMP-NAELHWXO</td>\n      <td>2210.0</td>\n      <td>NaN</td>\n      <td>NaN</td>\n      <td>NaN</td>\n      <td>2</td>\n    </tr>\n  </tbody>\n</table>\n<p>692 rows × 9 columns</p>\n</div>"
     },
     "metadata": {},
     "execution_count": 39
    }
   ],
   "source": [
    "utils.data_load(data_keys={'study_ids'})['study_ids']"
   ]
  },
  {
   "cell_type": "code",
   "execution_count": 37,
   "metadata": {},
   "outputs": [
    {
     "output_type": "execute_result",
     "data": {
      "text/plain": "      record_id redcap_event_name  phq9_1  phq9_2  phq9_3  phq9_4  phq9_5  \\\n0             4        ci_1_arm_1     0.0     0.0     3.0     2.0     0.0   \n1             4        ci_2_arm_1     0.0     0.0     3.0     3.0     0.0   \n2             4        ci_3_arm_1     0.0     0.0     3.0     3.0     0.0   \n3             4        ci_4_arm_1     0.0     0.0     3.0     3.0     0.0   \n4             4        ci_5_arm_1     0.0     0.0     3.0     3.0     0.0   \n...         ...               ...     ...     ...     ...     ...     ...   \n3840        842        ci_3_arm_1     0.0     0.0     0.0     0.0     0.0   \n3841        842        ci_4_arm_1     0.0     0.0     0.0     0.0     0.0   \n3842        854        ci_1_arm_1     0.0     0.0     0.0     0.0     0.0   \n3843        862        ci_1_arm_1     0.0     0.0     0.0     1.0     0.0   \n3844        880        ci_1_arm_1     1.0     1.0     2.0     2.0     2.0   \n\n      phq9_6  phq9_7  phq9_8  phq9_9  phq9_10  phq9_complete  \n0        0.0     0.0     0.0     0.0      1.0              2  \n1        0.0     0.0     0.0     0.0      1.0              2  \n2        0.0     0.0     0.0     0.0      1.0              2  \n3        0.0     0.0     0.0     0.0      1.0              2  \n4        0.0     0.0     0.0     0.0      1.0              2  \n...      ...     ...     ...     ...      ...            ...  \n3840     0.0     0.0     0.0     0.0      0.0              2  \n3841     0.0     0.0     0.0     0.0      0.0              2  \n3842     0.0     1.0     0.0     0.0      0.0              2  \n3843     0.0     0.0     0.0     0.0      1.0              2  \n3844     1.0     1.0     0.0     1.0      1.0              2  \n\n[3845 rows x 13 columns]",
      "text/html": "<div>\n<style scoped>\n    .dataframe tbody tr th:only-of-type {\n        vertical-align: middle;\n    }\n\n    .dataframe tbody tr th {\n        vertical-align: top;\n    }\n\n    .dataframe thead th {\n        text-align: right;\n    }\n</style>\n<table border=\"1\" class=\"dataframe\">\n  <thead>\n    <tr style=\"text-align: right;\">\n      <th></th>\n      <th>record_id</th>\n      <th>redcap_event_name</th>\n      <th>phq9_1</th>\n      <th>phq9_2</th>\n      <th>phq9_3</th>\n      <th>phq9_4</th>\n      <th>phq9_5</th>\n      <th>phq9_6</th>\n      <th>phq9_7</th>\n      <th>phq9_8</th>\n      <th>phq9_9</th>\n      <th>phq9_10</th>\n      <th>phq9_complete</th>\n    </tr>\n  </thead>\n  <tbody>\n    <tr>\n      <th>0</th>\n      <td>4</td>\n      <td>ci_1_arm_1</td>\n      <td>0.0</td>\n      <td>0.0</td>\n      <td>3.0</td>\n      <td>2.0</td>\n      <td>0.0</td>\n      <td>0.0</td>\n      <td>0.0</td>\n      <td>0.0</td>\n      <td>0.0</td>\n      <td>1.0</td>\n      <td>2</td>\n    </tr>\n    <tr>\n      <th>1</th>\n      <td>4</td>\n      <td>ci_2_arm_1</td>\n      <td>0.0</td>\n      <td>0.0</td>\n      <td>3.0</td>\n      <td>3.0</td>\n      <td>0.0</td>\n      <td>0.0</td>\n      <td>0.0</td>\n      <td>0.0</td>\n      <td>0.0</td>\n      <td>1.0</td>\n      <td>2</td>\n    </tr>\n    <tr>\n      <th>2</th>\n      <td>4</td>\n      <td>ci_3_arm_1</td>\n      <td>0.0</td>\n      <td>0.0</td>\n      <td>3.0</td>\n      <td>3.0</td>\n      <td>0.0</td>\n      <td>0.0</td>\n      <td>0.0</td>\n      <td>0.0</td>\n      <td>0.0</td>\n      <td>1.0</td>\n      <td>2</td>\n    </tr>\n    <tr>\n      <th>3</th>\n      <td>4</td>\n      <td>ci_4_arm_1</td>\n      <td>0.0</td>\n      <td>0.0</td>\n      <td>3.0</td>\n      <td>3.0</td>\n      <td>0.0</td>\n      <td>0.0</td>\n      <td>0.0</td>\n      <td>0.0</td>\n      <td>0.0</td>\n      <td>1.0</td>\n      <td>2</td>\n    </tr>\n    <tr>\n      <th>4</th>\n      <td>4</td>\n      <td>ci_5_arm_1</td>\n      <td>0.0</td>\n      <td>0.0</td>\n      <td>3.0</td>\n      <td>3.0</td>\n      <td>0.0</td>\n      <td>0.0</td>\n      <td>0.0</td>\n      <td>0.0</td>\n      <td>0.0</td>\n      <td>1.0</td>\n      <td>2</td>\n    </tr>\n    <tr>\n      <th>...</th>\n      <td>...</td>\n      <td>...</td>\n      <td>...</td>\n      <td>...</td>\n      <td>...</td>\n      <td>...</td>\n      <td>...</td>\n      <td>...</td>\n      <td>...</td>\n      <td>...</td>\n      <td>...</td>\n      <td>...</td>\n      <td>...</td>\n    </tr>\n    <tr>\n      <th>3840</th>\n      <td>842</td>\n      <td>ci_3_arm_1</td>\n      <td>0.0</td>\n      <td>0.0</td>\n      <td>0.0</td>\n      <td>0.0</td>\n      <td>0.0</td>\n      <td>0.0</td>\n      <td>0.0</td>\n      <td>0.0</td>\n      <td>0.0</td>\n      <td>0.0</td>\n      <td>2</td>\n    </tr>\n    <tr>\n      <th>3841</th>\n      <td>842</td>\n      <td>ci_4_arm_1</td>\n      <td>0.0</td>\n      <td>0.0</td>\n      <td>0.0</td>\n      <td>0.0</td>\n      <td>0.0</td>\n      <td>0.0</td>\n      <td>0.0</td>\n      <td>0.0</td>\n      <td>0.0</td>\n      <td>0.0</td>\n      <td>2</td>\n    </tr>\n    <tr>\n      <th>3842</th>\n      <td>854</td>\n      <td>ci_1_arm_1</td>\n      <td>0.0</td>\n      <td>0.0</td>\n      <td>0.0</td>\n      <td>0.0</td>\n      <td>0.0</td>\n      <td>0.0</td>\n      <td>1.0</td>\n      <td>0.0</td>\n      <td>0.0</td>\n      <td>0.0</td>\n      <td>2</td>\n    </tr>\n    <tr>\n      <th>3843</th>\n      <td>862</td>\n      <td>ci_1_arm_1</td>\n      <td>0.0</td>\n      <td>0.0</td>\n      <td>0.0</td>\n      <td>1.0</td>\n      <td>0.0</td>\n      <td>0.0</td>\n      <td>0.0</td>\n      <td>0.0</td>\n      <td>0.0</td>\n      <td>1.0</td>\n      <td>2</td>\n    </tr>\n    <tr>\n      <th>3844</th>\n      <td>880</td>\n      <td>ci_1_arm_1</td>\n      <td>1.0</td>\n      <td>1.0</td>\n      <td>2.0</td>\n      <td>2.0</td>\n      <td>2.0</td>\n      <td>1.0</td>\n      <td>1.0</td>\n      <td>0.0</td>\n      <td>1.0</td>\n      <td>1.0</td>\n      <td>2</td>\n    </tr>\n  </tbody>\n</table>\n<p>3845 rows × 13 columns</p>\n</div>"
     },
     "metadata": {},
     "execution_count": 37
    }
   ],
   "source": [
    "data['phq9']"
   ]
  },
  {
   "cell_type": "code",
   "execution_count": null,
   "metadata": {},
   "outputs": [],
   "source": []
  }
 ],
 "metadata": {
  "language_info": {
   "codemirror_mode": {
    "name": "ipython",
    "version": 3
   },
   "file_extension": ".py",
   "mimetype": "text/x-python",
   "name": "python",
   "nbconvert_exporter": "python",
   "pygments_lexer": "ipython3",
   "version": "3.6.10-final"
  },
  "orig_nbformat": 2,
  "kernelspec": {
   "name": "python361064bitbumpenvvenv908c53ecbdb647f396dedf9f95ba2333",
   "display_name": "Python 3.6.10 64-bit ('bump_env': venv)"
  }
 },
 "nbformat": 4,
 "nbformat_minor": 2
}