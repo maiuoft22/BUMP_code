{
 "cells": [
  {
   "cell_type": "code",
   "execution_count": 1,
   "metadata": {},
   "outputs": [],
   "source": [
    "from src import utils\n",
    "import pandas as pd"
   ]
  },
  {
   "cell_type": "code",
   "execution_count": 24,
   "metadata": {},
   "outputs": [],
   "source": [
    "data = utils.data_load(data_keys={'medications', 'surveys'})"
   ]
  },
  {
   "cell_type": "code",
   "execution_count": 25,
   "metadata": {
    "tags": [
     "outputPrepend"
    ]
   },
   "outputs": [],
   "source": [
    "metadata = data['medications']"
   ]
  },
  {
   "cell_type": "code",
   "execution_count": 26,
   "metadata": {},
   "outputs": [
    {
     "output_type": "execute_result",
     "data": {
      "text/plain": "      record_id redcap_event_name  meds_1  \\\n0             4        ci_1_arm_1       1   \n1             4        ci_2_arm_1       0   \n2             4        ci_3_arm_1       0   \n3             4        ci_4_arm_1       1   \n4             4        ci_5_arm_1       0   \n...         ...               ...     ...   \n3867        842        ci_3_arm_1       0   \n3868        842        ci_4_arm_1       0   \n3869        854        ci_1_arm_1       1   \n3870        862        ci_1_arm_1       1   \n3871        880        ci_1_arm_1       1   \n\n                                            meds_1_list  meds_2  \\\n0     prenatal vitamin (NatureMade, \"Prenatal Multi+...     NaN   \n1                                                   NaN     0.0   \n2                                                   NaN     1.0   \n3     prenatal vitamin (NatureMade, \"Prenatal Multi+...     NaN   \n4                                                   NaN     0.0   \n...                                                 ...     ...   \n3867                                                NaN     0.0   \n3868                                                NaN     0.0   \n3869  Ritual (Prenatal Vitamins); NA; 1qday; START: ...     NaN   \n3870  Nature Made (prenatal vitamins); NA; 1qday; ST...     NaN   \n3871  progesterone (progesterone); 100 mg; 1 vaginal...     NaN   \n\n                                            meds_2_list  medications_complete  \n0                                                   NaN                     2  \n1                                                   NaN                     2  \n2     prenatal vitamin (NatureMade, \"Prenatal Multi+...                     2  \n3                                                   NaN                     2  \n4                                                   NaN                     2  \n...                                                 ...                   ...  \n3867                                                NaN                     2  \n3868                                                NaN                     2  \n3869                                                NaN                     2  \n3870                                                NaN                     2  \n3871                                                NaN                     2  \n\n[3872 rows x 7 columns]",
      "text/html": "<div>\n<style scoped>\n    .dataframe tbody tr th:only-of-type {\n        vertical-align: middle;\n    }\n\n    .dataframe tbody tr th {\n        vertical-align: top;\n    }\n\n    .dataframe thead th {\n        text-align: right;\n    }\n</style>\n<table border=\"1\" class=\"dataframe\">\n  <thead>\n    <tr style=\"text-align: right;\">\n      <th></th>\n      <th>record_id</th>\n      <th>redcap_event_name</th>\n      <th>meds_1</th>\n      <th>meds_1_list</th>\n      <th>meds_2</th>\n      <th>meds_2_list</th>\n      <th>medications_complete</th>\n    </tr>\n  </thead>\n  <tbody>\n    <tr>\n      <th>0</th>\n      <td>4</td>\n      <td>ci_1_arm_1</td>\n      <td>1</td>\n      <td>prenatal vitamin (NatureMade, \"Prenatal Multi+...</td>\n      <td>NaN</td>\n      <td>NaN</td>\n      <td>2</td>\n    </tr>\n    <tr>\n      <th>1</th>\n      <td>4</td>\n      <td>ci_2_arm_1</td>\n      <td>0</td>\n      <td>NaN</td>\n      <td>0.0</td>\n      <td>NaN</td>\n      <td>2</td>\n    </tr>\n    <tr>\n      <th>2</th>\n      <td>4</td>\n      <td>ci_3_arm_1</td>\n      <td>0</td>\n      <td>NaN</td>\n      <td>1.0</td>\n      <td>prenatal vitamin (NatureMade, \"Prenatal Multi+...</td>\n      <td>2</td>\n    </tr>\n    <tr>\n      <th>3</th>\n      <td>4</td>\n      <td>ci_4_arm_1</td>\n      <td>1</td>\n      <td>prenatal vitamin (NatureMade, \"Prenatal Multi+...</td>\n      <td>NaN</td>\n      <td>NaN</td>\n      <td>2</td>\n    </tr>\n    <tr>\n      <th>4</th>\n      <td>4</td>\n      <td>ci_5_arm_1</td>\n      <td>0</td>\n      <td>NaN</td>\n      <td>0.0</td>\n      <td>NaN</td>\n      <td>2</td>\n    </tr>\n    <tr>\n      <th>...</th>\n      <td>...</td>\n      <td>...</td>\n      <td>...</td>\n      <td>...</td>\n      <td>...</td>\n      <td>...</td>\n      <td>...</td>\n    </tr>\n    <tr>\n      <th>3867</th>\n      <td>842</td>\n      <td>ci_3_arm_1</td>\n      <td>0</td>\n      <td>NaN</td>\n      <td>0.0</td>\n      <td>NaN</td>\n      <td>2</td>\n    </tr>\n    <tr>\n      <th>3868</th>\n      <td>842</td>\n      <td>ci_4_arm_1</td>\n      <td>0</td>\n      <td>NaN</td>\n      <td>0.0</td>\n      <td>NaN</td>\n      <td>2</td>\n    </tr>\n    <tr>\n      <th>3869</th>\n      <td>854</td>\n      <td>ci_1_arm_1</td>\n      <td>1</td>\n      <td>Ritual (Prenatal Vitamins); NA; 1qday; START: ...</td>\n      <td>NaN</td>\n      <td>NaN</td>\n      <td>2</td>\n    </tr>\n    <tr>\n      <th>3870</th>\n      <td>862</td>\n      <td>ci_1_arm_1</td>\n      <td>1</td>\n      <td>Nature Made (prenatal vitamins); NA; 1qday; ST...</td>\n      <td>NaN</td>\n      <td>NaN</td>\n      <td>2</td>\n    </tr>\n    <tr>\n      <th>3871</th>\n      <td>880</td>\n      <td>ci_1_arm_1</td>\n      <td>1</td>\n      <td>progesterone (progesterone); 100 mg; 1 vaginal...</td>\n      <td>NaN</td>\n      <td>NaN</td>\n      <td>2</td>\n    </tr>\n  </tbody>\n</table>\n<p>3872 rows × 7 columns</p>\n</div>"
     },
     "metadata": {},
     "execution_count": 26
    }
   ],
   "source": [
    "metadata"
   ]
  },
  {
   "cell_type": "code",
   "execution_count": 29,
   "metadata": {},
   "outputs": [],
   "source": [
    "unique = metadata['meds_2_list'].unique()"
   ]
  },
  {
   "cell_type": "code",
   "execution_count": 1,
   "metadata": {},
   "outputs": [],
   "source": [
    "from src.s3_utils import *\n"
   ]
  },
  {
   "cell_type": "code",
   "execution_count": 29,
   "metadata": {},
   "outputs": [],
   "source": [
    "bucket = 'fouryouandme-study-data'\n",
    "\n",
    "# read survey\n",
    "key = 'bump/redcap/wave_4/phq9.csv.gz'\n",
    "survey_df = pandas_from_csv_s3(bucket, key=key, compression='gzip')\n",
    "\n",
    "# read study ids\n",
    "key = 'bump/redcap/wave_4/study_ids.csv.gz'\n",
    "id_df = pandas_from_csv_s3(bucket, key=key, compression='gzip')\n",
    "id_df = id_df[['record_id', 'evidation_id']]\n",
    "id_df.rename(columns={'evidation_id': 'user_id'}, inplace=True)\n",
    "\n",
    "# add ids to survey\n",
    "survey_df = survey_df.merge(id_df, on=['record_id'])\n",
    "survey_df.user_id = survey_df.user_id.fillna(-1).astype(int)\n",
    "# read check-in dates\n",
    "key = 'bump/redcap/wave_4/check_in_adherence_log.csv.gz'\n",
    "ci_df = pandas_from_csv_s3(bucket, key=key, compression='gzip')\n",
    "cols = ['record_id'] + [col for col in ci_df.columns if col.endswith('_date')]\n",
    "ci_df = ci_df[cols]\n",
    "\n",
    "# add dates to survey\n",
    "survey_df = survey_df.merge(ci_df, on=['record_id'])\n",
    "survey_df['checkin_number'] = survey_df.redcap_event_name.str.split('ci_').str[1].str.split('_arm').str[0].fillna(0).astype(int)\n",
    "survey_df['date'] = survey_df.apply(lambda x: x[f'checkin_{str(x.checkin_number)}_date'] if x.checkin_number > 0 else None, axis=1)\n",
    "survey_df = survey_df[survey_df.columns.drop(list(survey_df.filter(regex='checkin_')))]\n",
    "\n",
    "# read survey metadata (for survey result interpretation)\n",
    "key = 'bump/redcap/wave_4/metadata.csv.gz'\n",
    "met_df = pandas_from_csv_s3(bucket, key=key, compression='gzip')\n",
    "\n",
    "label = met_df.loc[met_df.field_name == 'phq9_1'].field_label.values[0]\n",
    "choices = met_df.loc[met_df.field_name == 'phq9_1'].select_choices_or_calculations.values[0]"
   ]
  },
  {
   "cell_type": "code",
   "execution_count": 28,
   "metadata": {},
   "outputs": [
    {
     "output_type": "execute_result",
     "data": {
      "text/plain": "      record_id redcap_event_name  phq9_1  phq9_2  phq9_3  phq9_4  phq9_5  \\\n0             4        ci_1_arm_1     0.0     0.0     3.0     2.0     0.0   \n1             4        ci_2_arm_1     0.0     0.0     3.0     3.0     0.0   \n2             4        ci_3_arm_1     0.0     0.0     3.0     3.0     0.0   \n3             4        ci_4_arm_1     0.0     0.0     3.0     3.0     0.0   \n4             4        ci_5_arm_1     0.0     0.0     3.0     3.0     0.0   \n...         ...               ...     ...     ...     ...     ...     ...   \n3840        842        ci_3_arm_1     0.0     0.0     0.0     0.0     0.0   \n3841        842        ci_4_arm_1     0.0     0.0     0.0     0.0     0.0   \n3842        854        ci_1_arm_1     0.0     0.0     0.0     0.0     0.0   \n3843        862        ci_1_arm_1     0.0     0.0     0.0     1.0     0.0   \n3844        880        ci_1_arm_1     1.0     1.0     2.0     2.0     2.0   \n\n      phq9_6  phq9_7  phq9_8  phq9_9  phq9_10  phq9_complete  \n0        0.0     0.0     0.0     0.0      1.0              2  \n1        0.0     0.0     0.0     0.0      1.0              2  \n2        0.0     0.0     0.0     0.0      1.0              2  \n3        0.0     0.0     0.0     0.0      1.0              2  \n4        0.0     0.0     0.0     0.0      1.0              2  \n...      ...     ...     ...     ...      ...            ...  \n3840     0.0     0.0     0.0     0.0      0.0              2  \n3841     0.0     0.0     0.0     0.0      0.0              2  \n3842     0.0     1.0     0.0     0.0      0.0              2  \n3843     0.0     0.0     0.0     0.0      1.0              2  \n3844     1.0     1.0     0.0     1.0      1.0              2  \n\n[3845 rows x 13 columns]",
      "text/html": "<div>\n<style scoped>\n    .dataframe tbody tr th:only-of-type {\n        vertical-align: middle;\n    }\n\n    .dataframe tbody tr th {\n        vertical-align: top;\n    }\n\n    .dataframe thead th {\n        text-align: right;\n    }\n</style>\n<table border=\"1\" class=\"dataframe\">\n  <thead>\n    <tr style=\"text-align: right;\">\n      <th></th>\n      <th>record_id</th>\n      <th>redcap_event_name</th>\n      <th>phq9_1</th>\n      <th>phq9_2</th>\n      <th>phq9_3</th>\n      <th>phq9_4</th>\n      <th>phq9_5</th>\n      <th>phq9_6</th>\n      <th>phq9_7</th>\n      <th>phq9_8</th>\n      <th>phq9_9</th>\n      <th>phq9_10</th>\n      <th>phq9_complete</th>\n    </tr>\n  </thead>\n  <tbody>\n    <tr>\n      <th>0</th>\n      <td>4</td>\n      <td>ci_1_arm_1</td>\n      <td>0.0</td>\n      <td>0.0</td>\n      <td>3.0</td>\n      <td>2.0</td>\n      <td>0.0</td>\n      <td>0.0</td>\n      <td>0.0</td>\n      <td>0.0</td>\n      <td>0.0</td>\n      <td>1.0</td>\n      <td>2</td>\n    </tr>\n    <tr>\n      <th>1</th>\n      <td>4</td>\n      <td>ci_2_arm_1</td>\n      <td>0.0</td>\n      <td>0.0</td>\n      <td>3.0</td>\n      <td>3.0</td>\n      <td>0.0</td>\n      <td>0.0</td>\n      <td>0.0</td>\n      <td>0.0</td>\n      <td>0.0</td>\n      <td>1.0</td>\n      <td>2</td>\n    </tr>\n    <tr>\n      <th>2</th>\n      <td>4</td>\n      <td>ci_3_arm_1</td>\n      <td>0.0</td>\n      <td>0.0</td>\n      <td>3.0</td>\n      <td>3.0</td>\n      <td>0.0</td>\n      <td>0.0</td>\n      <td>0.0</td>\n      <td>0.0</td>\n      <td>0.0</td>\n      <td>1.0</td>\n      <td>2</td>\n    </tr>\n    <tr>\n      <th>3</th>\n      <td>4</td>\n      <td>ci_4_arm_1</td>\n      <td>0.0</td>\n      <td>0.0</td>\n      <td>3.0</td>\n      <td>3.0</td>\n      <td>0.0</td>\n      <td>0.0</td>\n      <td>0.0</td>\n      <td>0.0</td>\n      <td>0.0</td>\n      <td>1.0</td>\n      <td>2</td>\n    </tr>\n    <tr>\n      <th>4</th>\n      <td>4</td>\n      <td>ci_5_arm_1</td>\n      <td>0.0</td>\n      <td>0.0</td>\n      <td>3.0</td>\n      <td>3.0</td>\n      <td>0.0</td>\n      <td>0.0</td>\n      <td>0.0</td>\n      <td>0.0</td>\n      <td>0.0</td>\n      <td>1.0</td>\n      <td>2</td>\n    </tr>\n    <tr>\n      <th>...</th>\n      <td>...</td>\n      <td>...</td>\n      <td>...</td>\n      <td>...</td>\n      <td>...</td>\n      <td>...</td>\n      <td>...</td>\n      <td>...</td>\n      <td>...</td>\n      <td>...</td>\n      <td>...</td>\n      <td>...</td>\n      <td>...</td>\n    </tr>\n    <tr>\n      <th>3840</th>\n      <td>842</td>\n      <td>ci_3_arm_1</td>\n      <td>0.0</td>\n      <td>0.0</td>\n      <td>0.0</td>\n      <td>0.0</td>\n      <td>0.0</td>\n      <td>0.0</td>\n      <td>0.0</td>\n      <td>0.0</td>\n      <td>0.0</td>\n      <td>0.0</td>\n      <td>2</td>\n    </tr>\n    <tr>\n      <th>3841</th>\n      <td>842</td>\n      <td>ci_4_arm_1</td>\n      <td>0.0</td>\n      <td>0.0</td>\n      <td>0.0</td>\n      <td>0.0</td>\n      <td>0.0</td>\n      <td>0.0</td>\n      <td>0.0</td>\n      <td>0.0</td>\n      <td>0.0</td>\n      <td>0.0</td>\n      <td>2</td>\n    </tr>\n    <tr>\n      <th>3842</th>\n      <td>854</td>\n      <td>ci_1_arm_1</td>\n      <td>0.0</td>\n      <td>0.0</td>\n      <td>0.0</td>\n      <td>0.0</td>\n      <td>0.0</td>\n      <td>0.0</td>\n      <td>1.0</td>\n      <td>0.0</td>\n      <td>0.0</td>\n      <td>0.0</td>\n      <td>2</td>\n    </tr>\n    <tr>\n      <th>3843</th>\n      <td>862</td>\n      <td>ci_1_arm_1</td>\n      <td>0.0</td>\n      <td>0.0</td>\n      <td>0.0</td>\n      <td>1.0</td>\n      <td>0.0</td>\n      <td>0.0</td>\n      <td>0.0</td>\n      <td>0.0</td>\n      <td>0.0</td>\n      <td>1.0</td>\n      <td>2</td>\n    </tr>\n    <tr>\n      <th>3844</th>\n      <td>880</td>\n      <td>ci_1_arm_1</td>\n      <td>1.0</td>\n      <td>1.0</td>\n      <td>2.0</td>\n      <td>2.0</td>\n      <td>2.0</td>\n      <td>1.0</td>\n      <td>1.0</td>\n      <td>0.0</td>\n      <td>1.0</td>\n      <td>1.0</td>\n      <td>2</td>\n    </tr>\n  </tbody>\n</table>\n<p>3845 rows × 13 columns</p>\n</div>"
     },
     "metadata": {},
     "execution_count": 28
    }
   ],
   "source": [
    "id_df"
   ]
  },
  {
   "cell_type": "code",
   "execution_count": 24,
   "metadata": {},
   "outputs": [
    {
     "output_type": "execute_result",
     "data": {
      "text/plain": "      record_id redcap_event_name  phq9_1  phq9_2  phq9_3  phq9_4  phq9_5  \\\n0             4        ci_1_arm_1     0.0     0.0     3.0     2.0     0.0   \n1             4        ci_2_arm_1     0.0     0.0     3.0     3.0     0.0   \n2             4        ci_3_arm_1     0.0     0.0     3.0     3.0     0.0   \n3             4        ci_4_arm_1     0.0     0.0     3.0     3.0     0.0   \n4             4        ci_5_arm_1     0.0     0.0     3.0     3.0     0.0   \n...         ...               ...     ...     ...     ...     ...     ...   \n3840        842        ci_3_arm_1     0.0     0.0     0.0     0.0     0.0   \n3841        842        ci_4_arm_1     0.0     0.0     0.0     0.0     0.0   \n3842        854        ci_1_arm_1     0.0     0.0     0.0     0.0     0.0   \n3843        862        ci_1_arm_1     0.0     0.0     0.0     1.0     0.0   \n3844        880        ci_1_arm_1     1.0     1.0     2.0     2.0     2.0   \n\n      phq9_6  phq9_7  phq9_8  phq9_9  phq9_10  phq9_complete  user_id  \\\n0        0.0     0.0     0.0     0.0      1.0              2       28   \n1        0.0     0.0     0.0     0.0      1.0              2       28   \n2        0.0     0.0     0.0     0.0      1.0              2       28   \n3        0.0     0.0     0.0     0.0      1.0              2       28   \n4        0.0     0.0     0.0     0.0      1.0              2       28   \n...      ...     ...     ...     ...      ...            ...      ...   \n3840     0.0     0.0     0.0     0.0      0.0              2     2109   \n3841     0.0     0.0     0.0     0.0      0.0              2     2109   \n3842     0.0     1.0     0.0     0.0      0.0              2     2134   \n3843     0.0     0.0     0.0     0.0      1.0              2     2142   \n3844     1.0     1.0     0.0     1.0      1.0              2     2159   \n\n            date  \n0     2021-03-18  \n1     2021-04-01  \n2     2021-04-15  \n3     2021-04-29  \n4     2021-05-13  \n...          ...  \n3840  2022-06-24  \n3841  2022-07-07  \n3842  2022-07-18  \n3843  2022-07-13  \n3844         NaN  \n\n[3845 rows x 15 columns]",
      "text/html": "<div>\n<style scoped>\n    .dataframe tbody tr th:only-of-type {\n        vertical-align: middle;\n    }\n\n    .dataframe tbody tr th {\n        vertical-align: top;\n    }\n\n    .dataframe thead th {\n        text-align: right;\n    }\n</style>\n<table border=\"1\" class=\"dataframe\">\n  <thead>\n    <tr style=\"text-align: right;\">\n      <th></th>\n      <th>record_id</th>\n      <th>redcap_event_name</th>\n      <th>phq9_1</th>\n      <th>phq9_2</th>\n      <th>phq9_3</th>\n      <th>phq9_4</th>\n      <th>phq9_5</th>\n      <th>phq9_6</th>\n      <th>phq9_7</th>\n      <th>phq9_8</th>\n      <th>phq9_9</th>\n      <th>phq9_10</th>\n      <th>phq9_complete</th>\n      <th>user_id</th>\n      <th>date</th>\n    </tr>\n  </thead>\n  <tbody>\n    <tr>\n      <th>0</th>\n      <td>4</td>\n      <td>ci_1_arm_1</td>\n      <td>0.0</td>\n      <td>0.0</td>\n      <td>3.0</td>\n      <td>2.0</td>\n      <td>0.0</td>\n      <td>0.0</td>\n      <td>0.0</td>\n      <td>0.0</td>\n      <td>0.0</td>\n      <td>1.0</td>\n      <td>2</td>\n      <td>28</td>\n      <td>2021-03-18</td>\n    </tr>\n    <tr>\n      <th>1</th>\n      <td>4</td>\n      <td>ci_2_arm_1</td>\n      <td>0.0</td>\n      <td>0.0</td>\n      <td>3.0</td>\n      <td>3.0</td>\n      <td>0.0</td>\n      <td>0.0</td>\n      <td>0.0</td>\n      <td>0.0</td>\n      <td>0.0</td>\n      <td>1.0</td>\n      <td>2</td>\n      <td>28</td>\n      <td>2021-04-01</td>\n    </tr>\n    <tr>\n      <th>2</th>\n      <td>4</td>\n      <td>ci_3_arm_1</td>\n      <td>0.0</td>\n      <td>0.0</td>\n      <td>3.0</td>\n      <td>3.0</td>\n      <td>0.0</td>\n      <td>0.0</td>\n      <td>0.0</td>\n      <td>0.0</td>\n      <td>0.0</td>\n      <td>1.0</td>\n      <td>2</td>\n      <td>28</td>\n      <td>2021-04-15</td>\n    </tr>\n    <tr>\n      <th>3</th>\n      <td>4</td>\n      <td>ci_4_arm_1</td>\n      <td>0.0</td>\n      <td>0.0</td>\n      <td>3.0</td>\n      <td>3.0</td>\n      <td>0.0</td>\n      <td>0.0</td>\n      <td>0.0</td>\n      <td>0.0</td>\n      <td>0.0</td>\n      <td>1.0</td>\n      <td>2</td>\n      <td>28</td>\n      <td>2021-04-29</td>\n    </tr>\n    <tr>\n      <th>4</th>\n      <td>4</td>\n      <td>ci_5_arm_1</td>\n      <td>0.0</td>\n      <td>0.0</td>\n      <td>3.0</td>\n      <td>3.0</td>\n      <td>0.0</td>\n      <td>0.0</td>\n      <td>0.0</td>\n      <td>0.0</td>\n      <td>0.0</td>\n      <td>1.0</td>\n      <td>2</td>\n      <td>28</td>\n      <td>2021-05-13</td>\n    </tr>\n    <tr>\n      <th>...</th>\n      <td>...</td>\n      <td>...</td>\n      <td>...</td>\n      <td>...</td>\n      <td>...</td>\n      <td>...</td>\n      <td>...</td>\n      <td>...</td>\n      <td>...</td>\n      <td>...</td>\n      <td>...</td>\n      <td>...</td>\n      <td>...</td>\n      <td>...</td>\n      <td>...</td>\n    </tr>\n    <tr>\n      <th>3840</th>\n      <td>842</td>\n      <td>ci_3_arm_1</td>\n      <td>0.0</td>\n      <td>0.0</td>\n      <td>0.0</td>\n      <td>0.0</td>\n      <td>0.0</td>\n      <td>0.0</td>\n      <td>0.0</td>\n      <td>0.0</td>\n      <td>0.0</td>\n      <td>0.0</td>\n      <td>2</td>\n      <td>2109</td>\n      <td>2022-06-24</td>\n    </tr>\n    <tr>\n      <th>3841</th>\n      <td>842</td>\n      <td>ci_4_arm_1</td>\n      <td>0.0</td>\n      <td>0.0</td>\n      <td>0.0</td>\n      <td>0.0</td>\n      <td>0.0</td>\n      <td>0.0</td>\n      <td>0.0</td>\n      <td>0.0</td>\n      <td>0.0</td>\n      <td>0.0</td>\n      <td>2</td>\n      <td>2109</td>\n      <td>2022-07-07</td>\n    </tr>\n    <tr>\n      <th>3842</th>\n      <td>854</td>\n      <td>ci_1_arm_1</td>\n      <td>0.0</td>\n      <td>0.0</td>\n      <td>0.0</td>\n      <td>0.0</td>\n      <td>0.0</td>\n      <td>0.0</td>\n      <td>1.0</td>\n      <td>0.0</td>\n      <td>0.0</td>\n      <td>0.0</td>\n      <td>2</td>\n      <td>2134</td>\n      <td>2022-07-18</td>\n    </tr>\n    <tr>\n      <th>3843</th>\n      <td>862</td>\n      <td>ci_1_arm_1</td>\n      <td>0.0</td>\n      <td>0.0</td>\n      <td>0.0</td>\n      <td>1.0</td>\n      <td>0.0</td>\n      <td>0.0</td>\n      <td>0.0</td>\n      <td>0.0</td>\n      <td>0.0</td>\n      <td>1.0</td>\n      <td>2</td>\n      <td>2142</td>\n      <td>2022-07-13</td>\n    </tr>\n    <tr>\n      <th>3844</th>\n      <td>880</td>\n      <td>ci_1_arm_1</td>\n      <td>1.0</td>\n      <td>1.0</td>\n      <td>2.0</td>\n      <td>2.0</td>\n      <td>2.0</td>\n      <td>1.0</td>\n      <td>1.0</td>\n      <td>0.0</td>\n      <td>1.0</td>\n      <td>1.0</td>\n      <td>2</td>\n      <td>2159</td>\n      <td>NaN</td>\n    </tr>\n  </tbody>\n</table>\n<p>3845 rows × 15 columns</p>\n</div>"
     },
     "metadata": {},
     "execution_count": 24
    }
   ],
   "source": [
    "survey_df"
   ]
  },
  {
   "cell_type": "code",
   "execution_count": null,
   "metadata": {},
   "outputs": [],
   "source": []
  }
 ],
 "metadata": {
  "language_info": {
   "codemirror_mode": {
    "name": "ipython",
    "version": 3
   },
   "file_extension": ".py",
   "mimetype": "text/x-python",
   "name": "python",
   "nbconvert_exporter": "python",
   "pygments_lexer": "ipython3",
   "version": "3.6.10-final"
  },
  "orig_nbformat": 2,
  "kernelspec": {
   "name": "python361064bitbumpenvvenv908c53ecbdb647f396dedf9f95ba2333",
   "display_name": "Python 3.6.10 64-bit ('bump_env': venv)"
  }
 },
 "nbformat": 4,
 "nbformat_minor": 2
}